{
 "cells": [
  {
   "cell_type": "markdown",
   "metadata": {},
   "source": [
    "# Problem Description\n",
    "\n",
    "**How do you uncover the stars behind the numbers?**\n",
    "\n",
    "In football, player ratings aren’t just numbers—they’re a way to measure skill, potential, and reputation. But what if we could predict them? What if we could uncover what makes a player truly stand out?\n",
    "\n",
    "This project takes on the challenge of predicting FIFA 23 player ratings using real data like age, club, position, height, and even contract details. From young talents full of potential to experienced stars, every player’s numbers tell a unique story.\n",
    "\n",
    "But it’s not easy. A striker’s value isn’t judged the same way as a defender’s. Predicting ratings means understanding how different roles, skills, and attributes shape a player’s performance.\n",
    "\n",
    "Why does this matter? Scouts could find hidden gems. Gamers could understand what makes their favorite players great. And fans could see football in a whole new light.\n",
    "\n",
    "Can we crack the code behind these ratings? Let’s find out."
   ]
  },
  {
   "cell_type": "markdown",
   "metadata": {},
   "source": [
    "![FIFA 23](https://raw.githubusercontent.com/Niyetali/FIFA-Rating-Prediction/main/input/fifa-23.jpg)"
   ]
  },
  {
   "cell_type": "markdown",
   "metadata": {},
   "source": [
    "# Dataset Description\n",
    "\n",
    "This dataset is focused on predicting the **Overall rating** of FIFA 23 players, which is the target variable. The remaining columns serve as features, providing real-world data to help uncover the patterns and factors that influence player ratings. Here’s a breakdown of the dataset:\n",
    "\n",
    "---\n",
    "\n",
    "#### **Player Information**\n",
    "- **ID**: Unique identifier for each player.\n",
    "- **Name**: The player’s name.\n",
    "- **Age**: The player’s age.\n",
    "- **Photo**: Link to the player’s image.\n",
    "- **Nationality**: The country the player represents.\n",
    "- **Flag**: Link to the country’s flag.\n",
    "- **Height**: The player’s height.\n",
    "- **Weight**: The player’s weight.\n",
    "- **Body Type**: The player’s physical build.\n",
    "- **Real Face**: Indicates if the player’s face is represented in the game (binary):\n",
    "  Values: \"Yes\", \"No\".\n",
    "\n",
    "---\n",
    "\n",
    "#### **Player Ratings and Attributes**\n",
    "- **Potential**: The player’s potential future rating.\n",
    "- **Special**: A unique attribute reflecting specialized skills.\n",
    "- **Preferred Foot**: The player’s dominant foot.\n",
    "- **International Reputation**: Global popularity rating.\n",
    "- **Weak Foot**: The player’s ability to use their weaker foot.\n",
    "- **Skill Moves**: The player’s ability to perform skill moves.\n",
    "- **Work Rate**: Effort levels in attack and defense.\n",
    "- **Position**: The player’s main playing position.\n",
    "\n",
    "---\n",
    "\n",
    "#### **Club and Contract Information**\n",
    "- **Club**: The name of the club the player represents.\n",
    "- **Club Logo**: Link to the club’s logo.\n",
    "- **Joined**: Date the player joined their current club.\n",
    "- **Loaned From**: If applicable, the club the player is loaned from.\n",
    "- **Contract Valid Until**: The year the player’s contract expires.\n",
    "- **Release Clause**: The player’s release clause value.\n",
    "\n",
    "---\n",
    "\n",
    "#### **Financial Information**\n",
    "- **Value**: The player’s market value.\n",
    "- **Wage**: Weekly wage of the player.\n",
    "\n",
    "---\n",
    "\n",
    "#### **Miscellaneous**\n",
    "- **Kit Number**: The player’s jersey number.\n",
    "- **Best Overall Rating**: The highest rating achieved across all positions (mostly empty).\n",
    "\n",
    "---\n",
    "\n",
    "#### **Target Variable**\n",
    "- **Overall**: The player’s current overall skill rating, which serves as the target variable for prediction.\n",
    "\n",
    "# Dataset Characteristics\n",
    "- **Type**: Multivariate\n",
    "- **Focus**: Football Analytics\n",
    "- **Task**: Regression (predicting player ratings)\n",
    "- **Features**: Categorical, Numeric, Text\n",
    "- **Instances**: 17,000+ players\n",
    "- **Features**: 28 (plus target)\n",
    "\n",
    "---\n",
    "\n",
    "# Challenges\n",
    "- **Complex Relationships**: Player stats, positions, and reputation interact in fascinating ways that need careful analysis.\n",
    "- **Wide Variety**: Features like nationality and club include many unique categories, adding complexity.\n",
    "- **Imbalanced Data**: Some attributes, like skill moves or reputation, are skewed and need fair handling.\n",
    "\n",
    "---\n",
    "\n",
    "# Potential Applications\n",
    "- **Scouting Talent**: Spot rising stars and hidden gems based on key stats.\n",
    "- **Building Teams**: Find the perfect player for any role using data insights.\n",
    "- **Gaming Insights**: Understand how ratings are created to master team setups in FIFA.\n",
    "- **Analysis**: Explore how real-world performance translates into player ratings."
   ]
  },
  {
   "cell_type": "markdown",
   "metadata": {},
   "source": [
    "# Dependencies loading"
   ]
  },
  {
   "cell_type": "code",
   "execution_count": 381,
   "metadata": {},
   "outputs": [],
   "source": [
    "import pandas as pd\n",
    "import matplotlib.pyplot as plt\n",
    "import seaborn as sns\n",
    "import numpy as np\n",
    "\n",
    "from sklearn.model_selection import train_test_split\n",
    "from scipy.stats import chi2_contingency, pointbiserialr\n",
    "from sklearn.preprocessing import LabelEncoder\n",
    "\n",
    "# Utilities\n",
    "import os\n",
    "import warnings\n",
    "warnings.filterwarnings('ignore')"
   ]
  },
  {
   "cell_type": "markdown",
   "metadata": {},
   "source": [
    "# Project setup"
   ]
  },
  {
   "cell_type": "code",
   "execution_count": 384,
   "metadata": {},
   "outputs": [],
   "source": [
    "fifa_url = 'https://raw.githubusercontent.com/Niyetali/FIFA-Rating-Prediction/refs/heads/main/input/FIFA23_official_data.csv'\n",
    "\n",
    "# Configuration to display all columns (the dataset has many features)\n",
    "pd.set_option('display.max_columns', None)"
   ]
  },
  {
   "cell_type": "markdown",
   "metadata": {},
   "source": [
    "# Data preparation"
   ]
  },
  {
   "cell_type": "code",
   "execution_count": 387,
   "metadata": {},
   "outputs": [
    {
     "data": {
      "text/html": [
       "<div>\n",
       "<style scoped>\n",
       "    .dataframe tbody tr th:only-of-type {\n",
       "        vertical-align: middle;\n",
       "    }\n",
       "\n",
       "    .dataframe tbody tr th {\n",
       "        vertical-align: top;\n",
       "    }\n",
       "\n",
       "    .dataframe thead th {\n",
       "        text-align: right;\n",
       "    }\n",
       "</style>\n",
       "<table border=\"1\" class=\"dataframe\">\n",
       "  <thead>\n",
       "    <tr style=\"text-align: right;\">\n",
       "      <th></th>\n",
       "      <th>ID</th>\n",
       "      <th>Name</th>\n",
       "      <th>Age</th>\n",
       "      <th>Photo</th>\n",
       "      <th>Nationality</th>\n",
       "      <th>Flag</th>\n",
       "      <th>Overall</th>\n",
       "      <th>Potential</th>\n",
       "      <th>Club</th>\n",
       "      <th>Club Logo</th>\n",
       "      <th>Value</th>\n",
       "      <th>Wage</th>\n",
       "      <th>Special</th>\n",
       "      <th>Preferred Foot</th>\n",
       "      <th>International Reputation</th>\n",
       "      <th>Weak Foot</th>\n",
       "      <th>Skill Moves</th>\n",
       "      <th>Work Rate</th>\n",
       "      <th>Body Type</th>\n",
       "      <th>Real Face</th>\n",
       "      <th>Position</th>\n",
       "      <th>Joined</th>\n",
       "      <th>Loaned From</th>\n",
       "      <th>Contract Valid Until</th>\n",
       "      <th>Height</th>\n",
       "      <th>Weight</th>\n",
       "      <th>Release Clause</th>\n",
       "      <th>Kit Number</th>\n",
       "      <th>Best Overall Rating</th>\n",
       "    </tr>\n",
       "  </thead>\n",
       "  <tbody>\n",
       "    <tr>\n",
       "      <th>0</th>\n",
       "      <td>209658</td>\n",
       "      <td>L. Goretzka</td>\n",
       "      <td>27</td>\n",
       "      <td>https://cdn.sofifa.net/players/209/658/23_60.png</td>\n",
       "      <td>Germany</td>\n",
       "      <td>https://cdn.sofifa.net/flags/de.png</td>\n",
       "      <td>87</td>\n",
       "      <td>88</td>\n",
       "      <td>FC Bayern München</td>\n",
       "      <td>https://cdn.sofifa.net/teams/21/30.png</td>\n",
       "      <td>€91M</td>\n",
       "      <td>€115K</td>\n",
       "      <td>2312</td>\n",
       "      <td>Right</td>\n",
       "      <td>4.0</td>\n",
       "      <td>4.0</td>\n",
       "      <td>3.0</td>\n",
       "      <td>High/ Medium</td>\n",
       "      <td>Unique</td>\n",
       "      <td>Yes</td>\n",
       "      <td>&lt;span class=\"pos pos28\"&gt;SUB</td>\n",
       "      <td>Jul 1, 2018</td>\n",
       "      <td>NaN</td>\n",
       "      <td>2026</td>\n",
       "      <td>189cm</td>\n",
       "      <td>82kg</td>\n",
       "      <td>€157M</td>\n",
       "      <td>8.0</td>\n",
       "      <td>NaN</td>\n",
       "    </tr>\n",
       "    <tr>\n",
       "      <th>1</th>\n",
       "      <td>212198</td>\n",
       "      <td>Bruno Fernandes</td>\n",
       "      <td>27</td>\n",
       "      <td>https://cdn.sofifa.net/players/212/198/23_60.png</td>\n",
       "      <td>Portugal</td>\n",
       "      <td>https://cdn.sofifa.net/flags/pt.png</td>\n",
       "      <td>86</td>\n",
       "      <td>87</td>\n",
       "      <td>Manchester United</td>\n",
       "      <td>https://cdn.sofifa.net/teams/11/30.png</td>\n",
       "      <td>€78.5M</td>\n",
       "      <td>€190K</td>\n",
       "      <td>2305</td>\n",
       "      <td>Right</td>\n",
       "      <td>3.0</td>\n",
       "      <td>3.0</td>\n",
       "      <td>4.0</td>\n",
       "      <td>High/ High</td>\n",
       "      <td>Unique</td>\n",
       "      <td>Yes</td>\n",
       "      <td>&lt;span class=\"pos pos15\"&gt;LCM</td>\n",
       "      <td>Jan 30, 2020</td>\n",
       "      <td>NaN</td>\n",
       "      <td>2026</td>\n",
       "      <td>179cm</td>\n",
       "      <td>69kg</td>\n",
       "      <td>€155M</td>\n",
       "      <td>8.0</td>\n",
       "      <td>NaN</td>\n",
       "    </tr>\n",
       "    <tr>\n",
       "      <th>2</th>\n",
       "      <td>224334</td>\n",
       "      <td>M. Acuña</td>\n",
       "      <td>30</td>\n",
       "      <td>https://cdn.sofifa.net/players/224/334/23_60.png</td>\n",
       "      <td>Argentina</td>\n",
       "      <td>https://cdn.sofifa.net/flags/ar.png</td>\n",
       "      <td>85</td>\n",
       "      <td>85</td>\n",
       "      <td>Sevilla FC</td>\n",
       "      <td>https://cdn.sofifa.net/teams/481/30.png</td>\n",
       "      <td>€46.5M</td>\n",
       "      <td>€46K</td>\n",
       "      <td>2303</td>\n",
       "      <td>Left</td>\n",
       "      <td>2.0</td>\n",
       "      <td>3.0</td>\n",
       "      <td>3.0</td>\n",
       "      <td>High/ High</td>\n",
       "      <td>Stocky (170-185)</td>\n",
       "      <td>No</td>\n",
       "      <td>&lt;span class=\"pos pos7\"&gt;LB</td>\n",
       "      <td>Sep 14, 2020</td>\n",
       "      <td>NaN</td>\n",
       "      <td>2024</td>\n",
       "      <td>172cm</td>\n",
       "      <td>69kg</td>\n",
       "      <td>€97.7M</td>\n",
       "      <td>19.0</td>\n",
       "      <td>NaN</td>\n",
       "    </tr>\n",
       "    <tr>\n",
       "      <th>3</th>\n",
       "      <td>192985</td>\n",
       "      <td>K. De Bruyne</td>\n",
       "      <td>31</td>\n",
       "      <td>https://cdn.sofifa.net/players/192/985/23_60.png</td>\n",
       "      <td>Belgium</td>\n",
       "      <td>https://cdn.sofifa.net/flags/be.png</td>\n",
       "      <td>91</td>\n",
       "      <td>91</td>\n",
       "      <td>Manchester City</td>\n",
       "      <td>https://cdn.sofifa.net/teams/10/30.png</td>\n",
       "      <td>€107.5M</td>\n",
       "      <td>€350K</td>\n",
       "      <td>2303</td>\n",
       "      <td>Right</td>\n",
       "      <td>4.0</td>\n",
       "      <td>5.0</td>\n",
       "      <td>4.0</td>\n",
       "      <td>High/ High</td>\n",
       "      <td>Unique</td>\n",
       "      <td>Yes</td>\n",
       "      <td>&lt;span class=\"pos pos13\"&gt;RCM</td>\n",
       "      <td>Aug 30, 2015</td>\n",
       "      <td>NaN</td>\n",
       "      <td>2025</td>\n",
       "      <td>181cm</td>\n",
       "      <td>70kg</td>\n",
       "      <td>€198.9M</td>\n",
       "      <td>17.0</td>\n",
       "      <td>NaN</td>\n",
       "    </tr>\n",
       "    <tr>\n",
       "      <th>4</th>\n",
       "      <td>224232</td>\n",
       "      <td>N. Barella</td>\n",
       "      <td>25</td>\n",
       "      <td>https://cdn.sofifa.net/players/224/232/23_60.png</td>\n",
       "      <td>Italy</td>\n",
       "      <td>https://cdn.sofifa.net/flags/it.png</td>\n",
       "      <td>86</td>\n",
       "      <td>89</td>\n",
       "      <td>Inter</td>\n",
       "      <td>https://cdn.sofifa.net/teams/44/30.png</td>\n",
       "      <td>€89.5M</td>\n",
       "      <td>€110K</td>\n",
       "      <td>2296</td>\n",
       "      <td>Right</td>\n",
       "      <td>3.0</td>\n",
       "      <td>3.0</td>\n",
       "      <td>3.0</td>\n",
       "      <td>High/ High</td>\n",
       "      <td>Normal (170-)</td>\n",
       "      <td>Yes</td>\n",
       "      <td>&lt;span class=\"pos pos13\"&gt;RCM</td>\n",
       "      <td>Sep 1, 2020</td>\n",
       "      <td>NaN</td>\n",
       "      <td>2026</td>\n",
       "      <td>172cm</td>\n",
       "      <td>68kg</td>\n",
       "      <td>€154.4M</td>\n",
       "      <td>23.0</td>\n",
       "      <td>NaN</td>\n",
       "    </tr>\n",
       "    <tr>\n",
       "      <th>5</th>\n",
       "      <td>212622</td>\n",
       "      <td>J. Kimmich</td>\n",
       "      <td>27</td>\n",
       "      <td>https://cdn.sofifa.net/players/212/622/23_60.png</td>\n",
       "      <td>Germany</td>\n",
       "      <td>https://cdn.sofifa.net/flags/de.png</td>\n",
       "      <td>89</td>\n",
       "      <td>90</td>\n",
       "      <td>FC Bayern München</td>\n",
       "      <td>https://cdn.sofifa.net/teams/21/30.png</td>\n",
       "      <td>€105.5M</td>\n",
       "      <td>€130K</td>\n",
       "      <td>2283</td>\n",
       "      <td>Right</td>\n",
       "      <td>4.0</td>\n",
       "      <td>4.0</td>\n",
       "      <td>3.0</td>\n",
       "      <td>High/ Medium</td>\n",
       "      <td>Normal (170-185)</td>\n",
       "      <td>Yes</td>\n",
       "      <td>&lt;span class=\"pos pos9\"&gt;RDM</td>\n",
       "      <td>Jul 1, 2015</td>\n",
       "      <td>NaN</td>\n",
       "      <td>2025</td>\n",
       "      <td>177cm</td>\n",
       "      <td>75kg</td>\n",
       "      <td>€182M</td>\n",
       "      <td>6.0</td>\n",
       "      <td>NaN</td>\n",
       "    </tr>\n",
       "    <tr>\n",
       "      <th>6</th>\n",
       "      <td>197445</td>\n",
       "      <td>D. Alaba</td>\n",
       "      <td>30</td>\n",
       "      <td>https://cdn.sofifa.net/players/197/445/23_60.png</td>\n",
       "      <td>Austria</td>\n",
       "      <td>https://cdn.sofifa.net/flags/at.png</td>\n",
       "      <td>86</td>\n",
       "      <td>86</td>\n",
       "      <td>Real Madrid CF</td>\n",
       "      <td>https://cdn.sofifa.net/teams/243/30.png</td>\n",
       "      <td>€55.5M</td>\n",
       "      <td>€220K</td>\n",
       "      <td>2277</td>\n",
       "      <td>Left</td>\n",
       "      <td>4.0</td>\n",
       "      <td>4.0</td>\n",
       "      <td>3.0</td>\n",
       "      <td>Medium/ Medium</td>\n",
       "      <td>Normal (170-185)</td>\n",
       "      <td>Yes</td>\n",
       "      <td>&lt;span class=\"pos pos6\"&gt;LCB</td>\n",
       "      <td>Jul 1, 2021</td>\n",
       "      <td>NaN</td>\n",
       "      <td>2026</td>\n",
       "      <td>180cm</td>\n",
       "      <td>78kg</td>\n",
       "      <td>€113.8M</td>\n",
       "      <td>4.0</td>\n",
       "      <td>NaN</td>\n",
       "    </tr>\n",
       "    <tr>\n",
       "      <th>7</th>\n",
       "      <td>187961</td>\n",
       "      <td>22 Paulinho</td>\n",
       "      <td>32</td>\n",
       "      <td>https://cdn.sofifa.net/players/187/961/22_60.png</td>\n",
       "      <td>Brazil</td>\n",
       "      <td>https://cdn.sofifa.net/flags/br.png</td>\n",
       "      <td>83</td>\n",
       "      <td>83</td>\n",
       "      <td>Al Ahli</td>\n",
       "      <td>https://cdn.sofifa.net/teams/112387/30.png</td>\n",
       "      <td>€28.5M</td>\n",
       "      <td>€61K</td>\n",
       "      <td>2273</td>\n",
       "      <td>Right</td>\n",
       "      <td>3.0</td>\n",
       "      <td>4.0</td>\n",
       "      <td>4.0</td>\n",
       "      <td>High/ High</td>\n",
       "      <td>Normal (170-185)</td>\n",
       "      <td>Yes</td>\n",
       "      <td>&lt;span class=\"pos pos15\"&gt;LCM</td>\n",
       "      <td>Jul 22, 2021</td>\n",
       "      <td>NaN</td>\n",
       "      <td>2024</td>\n",
       "      <td>183cm</td>\n",
       "      <td>80kg</td>\n",
       "      <td>€48.5M</td>\n",
       "      <td>15.0</td>\n",
       "      <td>NaN</td>\n",
       "    </tr>\n",
       "    <tr>\n",
       "      <th>8</th>\n",
       "      <td>208333</td>\n",
       "      <td>E. Can</td>\n",
       "      <td>28</td>\n",
       "      <td>https://cdn.sofifa.net/players/208/333/23_60.png</td>\n",
       "      <td>Germany</td>\n",
       "      <td>https://cdn.sofifa.net/flags/de.png</td>\n",
       "      <td>82</td>\n",
       "      <td>82</td>\n",
       "      <td>Borussia Dortmund</td>\n",
       "      <td>https://cdn.sofifa.net/teams/22/30.png</td>\n",
       "      <td>€30.5M</td>\n",
       "      <td>€63K</td>\n",
       "      <td>2271</td>\n",
       "      <td>Right</td>\n",
       "      <td>3.0</td>\n",
       "      <td>4.0</td>\n",
       "      <td>3.0</td>\n",
       "      <td>Medium/ High</td>\n",
       "      <td>Stocky (185+)</td>\n",
       "      <td>Yes</td>\n",
       "      <td>&lt;span class=\"pos pos28\"&gt;SUB</td>\n",
       "      <td>Feb 18, 2020</td>\n",
       "      <td>NaN</td>\n",
       "      <td>2024</td>\n",
       "      <td>186cm</td>\n",
       "      <td>86kg</td>\n",
       "      <td>€51.9M</td>\n",
       "      <td>23.0</td>\n",
       "      <td>NaN</td>\n",
       "    </tr>\n",
       "    <tr>\n",
       "      <th>9</th>\n",
       "      <td>210514</td>\n",
       "      <td>João Cancelo</td>\n",
       "      <td>28</td>\n",
       "      <td>https://cdn.sofifa.net/players/210/514/23_60.png</td>\n",
       "      <td>Portugal</td>\n",
       "      <td>https://cdn.sofifa.net/flags/pt.png</td>\n",
       "      <td>88</td>\n",
       "      <td>88</td>\n",
       "      <td>Manchester City</td>\n",
       "      <td>https://cdn.sofifa.net/teams/10/30.png</td>\n",
       "      <td>€82.5M</td>\n",
       "      <td>€250K</td>\n",
       "      <td>2262</td>\n",
       "      <td>Right</td>\n",
       "      <td>3.0</td>\n",
       "      <td>4.0</td>\n",
       "      <td>4.0</td>\n",
       "      <td>High/ Medium</td>\n",
       "      <td>Unique</td>\n",
       "      <td>Yes</td>\n",
       "      <td>&lt;span class=\"pos pos7\"&gt;LB</td>\n",
       "      <td>Aug 7, 2019</td>\n",
       "      <td>NaN</td>\n",
       "      <td>2027</td>\n",
       "      <td>182cm</td>\n",
       "      <td>74kg</td>\n",
       "      <td>€152.6M</td>\n",
       "      <td>7.0</td>\n",
       "      <td>NaN</td>\n",
       "    </tr>\n",
       "  </tbody>\n",
       "</table>\n",
       "</div>"
      ],
      "text/plain": [
       "       ID             Name  Age  \\\n",
       "0  209658      L. Goretzka   27   \n",
       "1  212198  Bruno Fernandes   27   \n",
       "2  224334         M. Acuña   30   \n",
       "3  192985     K. De Bruyne   31   \n",
       "4  224232       N. Barella   25   \n",
       "5  212622       J. Kimmich   27   \n",
       "6  197445         D. Alaba   30   \n",
       "7  187961      22 Paulinho   32   \n",
       "8  208333           E. Can   28   \n",
       "9  210514     João Cancelo   28   \n",
       "\n",
       "                                              Photo Nationality  \\\n",
       "0  https://cdn.sofifa.net/players/209/658/23_60.png     Germany   \n",
       "1  https://cdn.sofifa.net/players/212/198/23_60.png    Portugal   \n",
       "2  https://cdn.sofifa.net/players/224/334/23_60.png   Argentina   \n",
       "3  https://cdn.sofifa.net/players/192/985/23_60.png     Belgium   \n",
       "4  https://cdn.sofifa.net/players/224/232/23_60.png       Italy   \n",
       "5  https://cdn.sofifa.net/players/212/622/23_60.png     Germany   \n",
       "6  https://cdn.sofifa.net/players/197/445/23_60.png     Austria   \n",
       "7  https://cdn.sofifa.net/players/187/961/22_60.png      Brazil   \n",
       "8  https://cdn.sofifa.net/players/208/333/23_60.png     Germany   \n",
       "9  https://cdn.sofifa.net/players/210/514/23_60.png    Portugal   \n",
       "\n",
       "                                  Flag  Overall  Potential               Club  \\\n",
       "0  https://cdn.sofifa.net/flags/de.png       87         88  FC Bayern München   \n",
       "1  https://cdn.sofifa.net/flags/pt.png       86         87  Manchester United   \n",
       "2  https://cdn.sofifa.net/flags/ar.png       85         85         Sevilla FC   \n",
       "3  https://cdn.sofifa.net/flags/be.png       91         91    Manchester City   \n",
       "4  https://cdn.sofifa.net/flags/it.png       86         89              Inter   \n",
       "5  https://cdn.sofifa.net/flags/de.png       89         90  FC Bayern München   \n",
       "6  https://cdn.sofifa.net/flags/at.png       86         86     Real Madrid CF   \n",
       "7  https://cdn.sofifa.net/flags/br.png       83         83            Al Ahli   \n",
       "8  https://cdn.sofifa.net/flags/de.png       82         82  Borussia Dortmund   \n",
       "9  https://cdn.sofifa.net/flags/pt.png       88         88    Manchester City   \n",
       "\n",
       "                                    Club Logo    Value   Wage  Special  \\\n",
       "0      https://cdn.sofifa.net/teams/21/30.png     €91M  €115K     2312   \n",
       "1      https://cdn.sofifa.net/teams/11/30.png   €78.5M  €190K     2305   \n",
       "2     https://cdn.sofifa.net/teams/481/30.png   €46.5M   €46K     2303   \n",
       "3      https://cdn.sofifa.net/teams/10/30.png  €107.5M  €350K     2303   \n",
       "4      https://cdn.sofifa.net/teams/44/30.png   €89.5M  €110K     2296   \n",
       "5      https://cdn.sofifa.net/teams/21/30.png  €105.5M  €130K     2283   \n",
       "6     https://cdn.sofifa.net/teams/243/30.png   €55.5M  €220K     2277   \n",
       "7  https://cdn.sofifa.net/teams/112387/30.png   €28.5M   €61K     2273   \n",
       "8      https://cdn.sofifa.net/teams/22/30.png   €30.5M   €63K     2271   \n",
       "9      https://cdn.sofifa.net/teams/10/30.png   €82.5M  €250K     2262   \n",
       "\n",
       "  Preferred Foot  International Reputation  Weak Foot  Skill Moves  \\\n",
       "0          Right                       4.0        4.0          3.0   \n",
       "1          Right                       3.0        3.0          4.0   \n",
       "2           Left                       2.0        3.0          3.0   \n",
       "3          Right                       4.0        5.0          4.0   \n",
       "4          Right                       3.0        3.0          3.0   \n",
       "5          Right                       4.0        4.0          3.0   \n",
       "6           Left                       4.0        4.0          3.0   \n",
       "7          Right                       3.0        4.0          4.0   \n",
       "8          Right                       3.0        4.0          3.0   \n",
       "9          Right                       3.0        4.0          4.0   \n",
       "\n",
       "        Work Rate         Body Type Real Face                     Position  \\\n",
       "0    High/ Medium            Unique       Yes  <span class=\"pos pos28\">SUB   \n",
       "1      High/ High            Unique       Yes  <span class=\"pos pos15\">LCM   \n",
       "2      High/ High  Stocky (170-185)        No    <span class=\"pos pos7\">LB   \n",
       "3      High/ High            Unique       Yes  <span class=\"pos pos13\">RCM   \n",
       "4      High/ High     Normal (170-)       Yes  <span class=\"pos pos13\">RCM   \n",
       "5    High/ Medium  Normal (170-185)       Yes   <span class=\"pos pos9\">RDM   \n",
       "6  Medium/ Medium  Normal (170-185)       Yes   <span class=\"pos pos6\">LCB   \n",
       "7      High/ High  Normal (170-185)       Yes  <span class=\"pos pos15\">LCM   \n",
       "8    Medium/ High     Stocky (185+)       Yes  <span class=\"pos pos28\">SUB   \n",
       "9    High/ Medium            Unique       Yes    <span class=\"pos pos7\">LB   \n",
       "\n",
       "         Joined Loaned From Contract Valid Until Height Weight Release Clause  \\\n",
       "0   Jul 1, 2018         NaN                 2026  189cm   82kg          €157M   \n",
       "1  Jan 30, 2020         NaN                 2026  179cm   69kg          €155M   \n",
       "2  Sep 14, 2020         NaN                 2024  172cm   69kg         €97.7M   \n",
       "3  Aug 30, 2015         NaN                 2025  181cm   70kg        €198.9M   \n",
       "4   Sep 1, 2020         NaN                 2026  172cm   68kg        €154.4M   \n",
       "5   Jul 1, 2015         NaN                 2025  177cm   75kg          €182M   \n",
       "6   Jul 1, 2021         NaN                 2026  180cm   78kg        €113.8M   \n",
       "7  Jul 22, 2021         NaN                 2024  183cm   80kg         €48.5M   \n",
       "8  Feb 18, 2020         NaN                 2024  186cm   86kg         €51.9M   \n",
       "9   Aug 7, 2019         NaN                 2027  182cm   74kg        €152.6M   \n",
       "\n",
       "   Kit Number Best Overall Rating  \n",
       "0         8.0                 NaN  \n",
       "1         8.0                 NaN  \n",
       "2        19.0                 NaN  \n",
       "3        17.0                 NaN  \n",
       "4        23.0                 NaN  \n",
       "5         6.0                 NaN  \n",
       "6         4.0                 NaN  \n",
       "7        15.0                 NaN  \n",
       "8        23.0                 NaN  \n",
       "9         7.0                 NaN  "
      ]
     },
     "execution_count": 387,
     "metadata": {},
     "output_type": "execute_result"
    }
   ],
   "source": [
    "df = pd.read_csv(fifa_url, sep=',')\n",
    "df.head(10)"
   ]
  },
  {
   "cell_type": "code",
   "execution_count": 388,
   "metadata": {},
   "outputs": [
    {
     "data": {
      "text/plain": [
       "(17660, 29)"
      ]
     },
     "execution_count": 388,
     "metadata": {},
     "output_type": "execute_result"
    }
   ],
   "source": [
    "df.shape"
   ]
  },
  {
   "cell_type": "markdown",
   "metadata": {},
   "source": [
    "# Dataset adjustment"
   ]
  },
  {
   "cell_type": "markdown",
   "metadata": {},
   "source": [
    "Let’s remove features that are intuitively unlikely to impact a footballer’s rating, simplifying the data for more effective analysis."
   ]
  },
  {
   "cell_type": "code",
   "execution_count": 391,
   "metadata": {},
   "outputs": [
    {
     "data": {
      "text/plain": [
       "Index(['Name', 'Age', 'Nationality', 'Overall', 'Potential', 'Club', 'Value',\n",
       "       'Wage', 'Preferred Foot', 'International Reputation', 'Weak Foot',\n",
       "       'Skill Moves', 'Work Rate', 'Body Type', 'Position', 'Loaned From',\n",
       "       'Height', 'Weight', 'Release Clause', 'Best Overall Rating'],\n",
       "      dtype='object')"
      ]
     },
     "execution_count": 391,
     "metadata": {},
     "output_type": "execute_result"
    }
   ],
   "source": [
    "# List of columns to drop\n",
    "columns_to_drop = ['Photo', 'Flag', 'Club Logo', 'Real Face', 'Kit Number',\n",
    "                    'ID', 'Special', 'Joined', 'Contract Valid Until']\n",
    "\n",
    "# Drop columns\n",
    "df = df.drop(columns=columns_to_drop)\n",
    "\n",
    "df.columns"
   ]
  },
  {
   "cell_type": "code",
   "execution_count": 392,
   "metadata": {},
   "outputs": [
    {
     "name": "stdout",
     "output_type": "stream",
     "text": [
      "<class 'pandas.core.frame.DataFrame'>\n",
      "RangeIndex: 17660 entries, 0 to 17659\n",
      "Data columns (total 20 columns):\n",
      " #   Column                    Non-Null Count  Dtype  \n",
      "---  ------                    --------------  -----  \n",
      " 0   Name                      17660 non-null  object \n",
      " 1   Age                       17660 non-null  int64  \n",
      " 2   Nationality               17660 non-null  object \n",
      " 3   Overall                   17660 non-null  int64  \n",
      " 4   Potential                 17660 non-null  int64  \n",
      " 5   Club                      17449 non-null  object \n",
      " 6   Value                     17660 non-null  object \n",
      " 7   Wage                      17660 non-null  object \n",
      " 8   Preferred Foot            17660 non-null  object \n",
      " 9   International Reputation  17660 non-null  float64\n",
      " 10  Weak Foot                 17660 non-null  float64\n",
      " 11  Skill Moves               17660 non-null  float64\n",
      " 12  Work Rate                 17660 non-null  object \n",
      " 13  Body Type                 17622 non-null  object \n",
      " 14  Position                  17625 non-null  object \n",
      " 15  Loaned From               694 non-null    object \n",
      " 16  Height                    17660 non-null  object \n",
      " 17  Weight                    17660 non-null  object \n",
      " 18  Release Clause            16509 non-null  object \n",
      " 19  Best Overall Rating       21 non-null     object \n",
      "dtypes: float64(3), int64(3), object(14)\n",
      "memory usage: 2.7+ MB\n"
     ]
    }
   ],
   "source": [
    "df.info()"
   ]
  },
  {
   "cell_type": "markdown",
   "metadata": {},
   "source": [
    "We can see that most columns are categorical, which means we’ll need to handle a significant amount of encoding to prepare the data for analysis."
   ]
  },
  {
   "cell_type": "markdown",
   "metadata": {},
   "source": [
    "## Handling Missing Values"
   ]
  },
  {
   "cell_type": "markdown",
   "metadata": {},
   "source": [
    "It goes without saying that it is crucial to deal with NaN Values to proceed further with dataset analysis and later, improve a model's performance. Thus, we will investigate whether to remove or fill these NaN values in our dataset"
   ]
  },
  {
   "cell_type": "code",
   "execution_count": 396,
   "metadata": {},
   "outputs": [
    {
     "data": {
      "text/plain": [
       "Name                            0\n",
       "Age                             0\n",
       "Nationality                     0\n",
       "Overall                         0\n",
       "Potential                       0\n",
       "Club                          211\n",
       "Value                           0\n",
       "Wage                            0\n",
       "Preferred Foot                  0\n",
       "International Reputation        0\n",
       "Weak Foot                       0\n",
       "Skill Moves                     0\n",
       "Work Rate                       0\n",
       "Body Type                      38\n",
       "Position                       35\n",
       "Loaned From                 16966\n",
       "Height                          0\n",
       "Weight                          0\n",
       "Release Clause               1151\n",
       "Best Overall Rating         17639\n",
       "dtype: int64"
      ]
     },
     "execution_count": 396,
     "metadata": {},
     "output_type": "execute_result"
    }
   ],
   "source": [
    "df.isnull().sum()"
   ]
  },
  {
   "cell_type": "code",
   "execution_count": 397,
   "metadata": {},
   "outputs": [
    {
     "data": {
      "text/plain": [
       "<bound method NDFrame.head of 0        Permanent\n",
       "1        Permanent\n",
       "2        Permanent\n",
       "3        Permanent\n",
       "4        Permanent\n",
       "           ...    \n",
       "17655    Permanent\n",
       "17656    Permanent\n",
       "17657    Permanent\n",
       "17658    Permanent\n",
       "17659    Permanent\n",
       "Name: Loaned From, Length: 17660, dtype: category\n",
       "Categories (271, object): ['<a href=\"/team/1/arsenal/\">Arsenal</a>', '<a href=\"/team/10/manchester-city/\">Mancheste..., '<a href=\"/team/100087/oud-heverlee-leuven/\">O..., '<a href=\"/team/10029/tsg-hoffenheim/\">TSG Hof..., ..., '<a href=\"/team/95/leicester-city/\">Leicester ..., '<a href=\"/team/97/millwall/\">Millwall</a>', '<a href=\"/team/983/suwon-samsung-bluewings/\">..., 'Permanent']>"
      ]
     },
     "execution_count": 397,
     "metadata": {},
     "output_type": "execute_result"
    }
   ],
   "source": [
    "# Best Overall Rating has too many missing values so,\n",
    "# it would not make sense to keep this column.\n",
    "df = df.drop(columns=['Best Overall Rating'])\n",
    "\n",
    "# The original owner of the player might make sense to keep for now.\n",
    "# Lets replace NaNs with Permanent for now, meaning players that are not on loan.\n",
    "df['Loaned From'] = df['Loaned From'].fillna('Permanent')\n",
    "df['Loaned From'] = df['Loaned From'].astype('category')\n",
    "\n",
    "df['Loaned From'].head"
   ]
  },
  {
   "cell_type": "markdown",
   "metadata": {},
   "source": [
    "**Club**, **Body Type**, and **Position** have only a few missing values. Clubs can be filled with \"Unknown,\" as this is unlikely to significantly impact our analysis. For Body Type, missing values could be filled based on **Height** and **Weight**—for example, shorter and heavier players might be categorized as \"Stocky,\" while taller and lighter players could be labeled as \"Lean.\" For **Position**, we can consider removing the rows with missing values."
   ]
  },
  {
   "cell_type": "markdown",
   "metadata": {},
   "source": [
    "**BUT,** before addressing the remaining missing values, let’s first clean and convert the variables into their appropriate data types to make our work smoother and more efficient."
   ]
  },
  {
   "cell_type": "markdown",
   "metadata": {},
   "source": [
    "### `Club`"
   ]
  },
  {
   "cell_type": "code",
   "execution_count": 401,
   "metadata": {},
   "outputs": [
    {
     "data": {
      "text/plain": [
       "Name                           0\n",
       "Age                            0\n",
       "Nationality                    0\n",
       "Overall                        0\n",
       "Potential                      0\n",
       "Club                           0\n",
       "Value                          0\n",
       "Wage                           0\n",
       "Preferred Foot                 0\n",
       "International Reputation       0\n",
       "Weak Foot                      0\n",
       "Skill Moves                    0\n",
       "Work Rate                      0\n",
       "Body Type                     38\n",
       "Position                      35\n",
       "Loaned From                    0\n",
       "Height                         0\n",
       "Weight                         0\n",
       "Release Clause              1151\n",
       "dtype: int64"
      ]
     },
     "execution_count": 401,
     "metadata": {},
     "output_type": "execute_result"
    }
   ],
   "source": [
    "df['Club'] = df['Club'].astype('category')\n",
    "\n",
    "# Setting \"Unknown\" as a new category \n",
    "df['Club'] = df['Club'].cat.add_categories('Unknown')\n",
    "\n",
    "# Now lets fill the column\n",
    "df['Club'] = df['Club'].fillna('Unknown')\n",
    "\n",
    "df.isnull().sum()"
   ]
  },
  {
   "cell_type": "markdown",
   "metadata": {},
   "source": [
    "### `Weight`"
   ]
  },
  {
   "cell_type": "code",
   "execution_count": 403,
   "metadata": {},
   "outputs": [
    {
     "data": {
      "text/plain": [
       "0    82kg\n",
       "1    69kg\n",
       "2    69kg\n",
       "3    70kg\n",
       "4    68kg\n",
       "5    75kg\n",
       "6    78kg\n",
       "7    80kg\n",
       "8    86kg\n",
       "9    74kg\n",
       "Name: Weight, dtype: object"
      ]
     },
     "execution_count": 403,
     "metadata": {},
     "output_type": "execute_result"
    }
   ],
   "source": [
    "df['Weight'].head(10)"
   ]
  },
  {
   "cell_type": "code",
   "execution_count": 404,
   "metadata": {},
   "outputs": [
    {
     "data": {
      "text/plain": [
       "0    82\n",
       "1    69\n",
       "2    69\n",
       "3    70\n",
       "4    68\n",
       "5    75\n",
       "6    78\n",
       "7    80\n",
       "8    86\n",
       "9    74\n",
       "Name: Weight, dtype: int64"
      ]
     },
     "execution_count": 404,
     "metadata": {},
     "output_type": "execute_result"
    }
   ],
   "source": [
    "# Remove kg suffix \n",
    "df['Weight'] = df['Weight'].str.replace('kg', '').astype('int64')\n",
    "\n",
    "df['Weight'].head(10)"
   ]
  },
  {
   "cell_type": "markdown",
   "metadata": {},
   "source": [
    "### `Height`"
   ]
  },
  {
   "cell_type": "code",
   "execution_count": 406,
   "metadata": {},
   "outputs": [
    {
     "data": {
      "text/plain": [
       "0    189cm\n",
       "1    179cm\n",
       "2    172cm\n",
       "3    181cm\n",
       "4    172cm\n",
       "5    177cm\n",
       "6    180cm\n",
       "7    183cm\n",
       "8    186cm\n",
       "9    182cm\n",
       "Name: Height, dtype: object"
      ]
     },
     "execution_count": 406,
     "metadata": {},
     "output_type": "execute_result"
    }
   ],
   "source": [
    "df['Height'].head(10)"
   ]
  },
  {
   "cell_type": "code",
   "execution_count": 407,
   "metadata": {},
   "outputs": [
    {
     "data": {
      "text/plain": [
       "0    189\n",
       "1    179\n",
       "2    172\n",
       "3    181\n",
       "4    172\n",
       "5    177\n",
       "6    180\n",
       "7    183\n",
       "8    186\n",
       "9    182\n",
       "Name: Height, dtype: int64"
      ]
     },
     "execution_count": 407,
     "metadata": {},
     "output_type": "execute_result"
    }
   ],
   "source": [
    "# Remove cm suffix \n",
    "df['Height'] = df['Height'].str.replace('cm', '').astype('int64')\n",
    "\n",
    "df['Height'].head(10)"
   ]
  },
  {
   "cell_type": "markdown",
   "metadata": {},
   "source": [
    "### `Body Type`"
   ]
  },
  {
   "cell_type": "code",
   "execution_count": 409,
   "metadata": {},
   "outputs": [
    {
     "data": {
      "text/plain": [
       "array(['Unique', 'Stocky (170-185)', 'Normal (170-)', 'Normal (170-185)',\n",
       "       'Stocky (185+)', 'Lean (185+)', 'Lean (170-185)', 'Normal (185+)',\n",
       "       'Lean (170-)', 'Stocky (170-)', nan], dtype=object)"
      ]
     },
     "execution_count": 409,
     "metadata": {},
     "output_type": "execute_result"
    }
   ],
   "source": [
    "df['Body Type'].unique()"
   ]
  },
  {
   "cell_type": "code",
   "execution_count": 410,
   "metadata": {},
   "outputs": [
    {
     "data": {
      "text/plain": [
       "['Unique', 'Stocky', 'Normal', 'Lean', NaN]\n",
       "Categories (4, object): ['Lean', 'Normal', 'Stocky', 'Unique']"
      ]
     },
     "execution_count": 410,
     "metadata": {},
     "output_type": "execute_result"
    }
   ],
   "source": [
    "# Remove height suffix\n",
    "df['Body Type'] = df['Body Type'].str.split('(', expand=True)[0].str.strip()\n",
    "df['Body Type'] = df['Body Type'].astype('category')\n",
    "\n",
    "df['Body Type'].unique()"
   ]
  },
  {
   "cell_type": "code",
   "execution_count": 411,
   "metadata": {},
   "outputs": [
    {
     "data": {
      "text/plain": [
       "array(['Unique', 'Stocky', 'Normal', 'Lean'], dtype=object)"
      ]
     },
     "execution_count": 411,
     "metadata": {},
     "output_type": "execute_result"
    }
   ],
   "source": [
    "# Filling Body Type based on Height and Weight thresholds\n",
    "def fill_body_type(row):    \n",
    "    if pd.isnull(row['Body Type']):\n",
    "        \n",
    "        if row['Height'] > 185 and row['Weight'] > 80:\n",
    "            return 'Stocky'\n",
    "        elif row['Height'] < 175 and row['Weight'] < 70:\n",
    "            return 'Lean'\n",
    "        else:\n",
    "            return 'Normal'\n",
    "            \n",
    "    return row['Body Type']\n",
    "\n",
    "df['Body Type'] = df.apply(fill_body_type, axis=1)\n",
    "\n",
    "df['Body Type'].unique()"
   ]
  },
  {
   "cell_type": "markdown",
   "metadata": {},
   "source": [
    "### `Value`, `Wage` and `Release Clause`"
   ]
  },
  {
   "cell_type": "code",
   "execution_count": 413,
   "metadata": {},
   "outputs": [
    {
     "name": "stdout",
     "output_type": "stream",
     "text": [
      "         Value   Wage Release Clause\n",
      "0         €91M  €115K          €157M\n",
      "1       €78.5M  €190K          €155M\n",
      "2       €46.5M   €46K         €97.7M\n",
      "3      €107.5M  €350K        €198.9M\n",
      "4       €89.5M  €110K        €154.4M\n",
      "...        ...    ...            ...\n",
      "17655    €100K   €500          €218K\n",
      "17656    €100K   €500          €188K\n",
      "17657     €70K    €2K          €142K\n",
      "17658     €90K   €500          €214K\n",
      "17659     €90K   €500          €131K\n",
      "\n",
      "[17660 rows x 3 columns]\n"
     ]
    }
   ],
   "source": [
    "print(df[[\"Value\", \"Wage\", \"Release Clause\"]])"
   ]
  },
  {
   "cell_type": "markdown",
   "metadata": {},
   "source": [
    "Lets convert `Value`, `Release Clause` and `Wage` into a float variable."
   ]
  },
  {
   "cell_type": "code",
   "execution_count": 415,
   "metadata": {},
   "outputs": [
    {
     "name": "stdout",
     "output_type": "stream",
     "text": [
      "             Value      Wage  Release Clause\n",
      "0       91000000.0  115000.0     157000000.0\n",
      "1       78500000.0  190000.0     155000000.0\n",
      "2       46500000.0   46000.0      97700000.0\n",
      "3      107500000.0  350000.0     198900000.0\n",
      "4       89500000.0  110000.0     154400000.0\n",
      "...            ...       ...             ...\n",
      "17655     100000.0     500.0        218000.0\n",
      "17656     100000.0     500.0        188000.0\n",
      "17657      70000.0    2000.0        142000.0\n",
      "17658      90000.0     500.0        214000.0\n",
      "17659      90000.0     500.0        131000.0\n",
      "\n",
      "[17660 rows x 3 columns]\n"
     ]
    }
   ],
   "source": [
    "def convert_currency(value):\n",
    "    if isinstance(value, str):\n",
    "        value = value.replace('€', '')  # first remove the euro sign\n",
    "        \n",
    "        if 'M' in value:  # for values in millions\n",
    "            return float(value.replace('M', '')) * 1000000\n",
    "        elif 'K' in value:  # for values in thousands\n",
    "            return float(value.replace('K', '')) * 1000\n",
    "        else:  # For values without suffix\n",
    "            return float(value)\n",
    "            \n",
    "    return 0  # handle missing values\n",
    "\n",
    "# applying the function to these features\n",
    "df['Value'] = df['Value'].apply(convert_currency)\n",
    "df['Wage'] = df['Wage'].apply(convert_currency)\n",
    "df['Release Clause'] = df['Release Clause'].apply(convert_currency)\n",
    "\n",
    "print(df[[\"Value\", \"Wage\", \"Release Clause\"]])"
   ]
  },
  {
   "cell_type": "markdown",
   "metadata": {},
   "source": [
    "### `Release Clause`"
   ]
  },
  {
   "cell_type": "markdown",
   "metadata": {},
   "source": [
    "The **Release Clause** column still has a few missing values. To handle this, we can fill the missing entries with the median of the column. This ensures the missing values are replaced with a representative number without skewing the data. Currently, there are 1,151 missing values in this column."
   ]
  },
  {
   "cell_type": "code",
   "execution_count": 418,
   "metadata": {},
   "outputs": [],
   "source": [
    "release_clause_median = df['Release Clause'].median()\n",
    "\n",
    "df['Release Clause'] = df['Release Clause'].fillna(release_clause_median)"
   ]
  },
  {
   "cell_type": "markdown",
   "metadata": {},
   "source": [
    "### `Position`"
   ]
  },
  {
   "cell_type": "code",
   "execution_count": 420,
   "metadata": {},
   "outputs": [
    {
     "data": {
      "text/plain": [
       "0    <span class=\"pos pos28\">SUB\n",
       "1    <span class=\"pos pos15\">LCM\n",
       "2      <span class=\"pos pos7\">LB\n",
       "3    <span class=\"pos pos13\">RCM\n",
       "4    <span class=\"pos pos13\">RCM\n",
       "5     <span class=\"pos pos9\">RDM\n",
       "6     <span class=\"pos pos6\">LCB\n",
       "7    <span class=\"pos pos15\">LCM\n",
       "8    <span class=\"pos pos28\">SUB\n",
       "9      <span class=\"pos pos7\">LB\n",
       "Name: Position, dtype: object"
      ]
     },
     "execution_count": 420,
     "metadata": {},
     "output_type": "execute_result"
    }
   ],
   "source": [
    "df['Position'].head(10)"
   ]
  },
  {
   "cell_type": "markdown",
   "metadata": {},
   "source": [
    "Next, let’s convert remaining relevant columns into categorical data types, starting with **Position**. Upon inspection, we can see that the **Position** column contains HTML code blended into the data. We’ll clean this column to remove any unwanted HTML code before proceeding."
   ]
  },
  {
   "cell_type": "code",
   "execution_count": 422,
   "metadata": {},
   "outputs": [
    {
     "data": {
      "text/plain": [
       "['SUB', 'LCM', 'LB', 'RCM', 'RDM', ..., 'CB', NaN, 'RAM', 'LAM', 'GK']\n",
       "Length: 30\n",
       "Categories (29, object): ['CAM', 'CB', 'CDM', 'CF', ..., 'RW', 'RWB', 'ST', 'SUB']"
      ]
     },
     "execution_count": 422,
     "metadata": {},
     "output_type": "execute_result"
    }
   ],
   "source": [
    "df['Position'] = df['Position'].apply(lambda x: x.split(\">\")[1] if isinstance(x, str) and \">\" in x else x)\n",
    "\n",
    "# Conversion\n",
    "df['Position'] = df['Position'].astype('category')\n",
    "\n",
    "# Verification \n",
    "df['Position'].unique()"
   ]
  },
  {
   "cell_type": "markdown",
   "metadata": {},
   "source": [
    "`Position` has only a few missing values so we can simply drop those instances."
   ]
  },
  {
   "cell_type": "code",
   "execution_count": 424,
   "metadata": {},
   "outputs": [
    {
     "data": {
      "text/plain": [
       "Name                        0\n",
       "Age                         0\n",
       "Nationality                 0\n",
       "Overall                     0\n",
       "Potential                   0\n",
       "Club                        0\n",
       "Value                       0\n",
       "Wage                        0\n",
       "Preferred Foot              0\n",
       "International Reputation    0\n",
       "Weak Foot                   0\n",
       "Skill Moves                 0\n",
       "Work Rate                   0\n",
       "Body Type                   0\n",
       "Position                    0\n",
       "Loaned From                 0\n",
       "Height                      0\n",
       "Weight                      0\n",
       "Release Clause              0\n",
       "dtype: int64"
      ]
     },
     "execution_count": 424,
     "metadata": {},
     "output_type": "execute_result"
    }
   ],
   "source": [
    "df = df.dropna(subset=['Position'])\n",
    "\n",
    "df.isnull().sum()"
   ]
  },
  {
   "cell_type": "markdown",
   "metadata": {},
   "source": [
    "### `Preferred foot`"
   ]
  },
  {
   "cell_type": "code",
   "execution_count": 426,
   "metadata": {},
   "outputs": [
    {
     "data": {
      "text/plain": [
       "0    Right\n",
       "1    Right\n",
       "2     Left\n",
       "3    Right\n",
       "4    Right\n",
       "5    Right\n",
       "6     Left\n",
       "7    Right\n",
       "8    Right\n",
       "9    Right\n",
       "Name: Preferred Foot, dtype: object"
      ]
     },
     "execution_count": 426,
     "metadata": {},
     "output_type": "execute_result"
    }
   ],
   "source": [
    "df[\"Preferred Foot\"].head(10)"
   ]
  },
  {
   "cell_type": "markdown",
   "metadata": {},
   "source": [
    "#### Lets convert this feature into a binary variable:"
   ]
  },
  {
   "cell_type": "code",
   "execution_count": 428,
   "metadata": {},
   "outputs": [
    {
     "data": {
      "text/plain": [
       "array([1, 0])"
      ]
     },
     "execution_count": 428,
     "metadata": {},
     "output_type": "execute_result"
    }
   ],
   "source": [
    "# Map \"Right\" to 1 and \"Left\" to 0\n",
    "df['Preferred Foot'] = df['Preferred Foot'].map({'Right': 1, 'Left': 0})\n",
    "\n",
    "df['Preferred Foot'].unique()"
   ]
  },
  {
   "cell_type": "markdown",
   "metadata": {},
   "source": [
    "## Reviewing the Data"
   ]
  },
  {
   "cell_type": "markdown",
   "metadata": {},
   "source": [
    "#### A final look at the dataset ensures it's clean and ready for splitting and further analysis."
   ]
  },
  {
   "cell_type": "code",
   "execution_count": 431,
   "metadata": {},
   "outputs": [
    {
     "data": {
      "text/html": [
       "<div>\n",
       "<style scoped>\n",
       "    .dataframe tbody tr th:only-of-type {\n",
       "        vertical-align: middle;\n",
       "    }\n",
       "\n",
       "    .dataframe tbody tr th {\n",
       "        vertical-align: top;\n",
       "    }\n",
       "\n",
       "    .dataframe thead th {\n",
       "        text-align: right;\n",
       "    }\n",
       "</style>\n",
       "<table border=\"1\" class=\"dataframe\">\n",
       "  <thead>\n",
       "    <tr style=\"text-align: right;\">\n",
       "      <th></th>\n",
       "      <th>Name</th>\n",
       "      <th>Age</th>\n",
       "      <th>Nationality</th>\n",
       "      <th>Overall</th>\n",
       "      <th>Potential</th>\n",
       "      <th>Club</th>\n",
       "      <th>Value</th>\n",
       "      <th>Wage</th>\n",
       "      <th>Preferred Foot</th>\n",
       "      <th>International Reputation</th>\n",
       "      <th>Weak Foot</th>\n",
       "      <th>Skill Moves</th>\n",
       "      <th>Work Rate</th>\n",
       "      <th>Body Type</th>\n",
       "      <th>Position</th>\n",
       "      <th>Loaned From</th>\n",
       "      <th>Height</th>\n",
       "      <th>Weight</th>\n",
       "      <th>Release Clause</th>\n",
       "    </tr>\n",
       "  </thead>\n",
       "  <tbody>\n",
       "    <tr>\n",
       "      <th>0</th>\n",
       "      <td>L. Goretzka</td>\n",
       "      <td>27</td>\n",
       "      <td>Germany</td>\n",
       "      <td>87</td>\n",
       "      <td>88</td>\n",
       "      <td>FC Bayern München</td>\n",
       "      <td>91000000.0</td>\n",
       "      <td>115000.0</td>\n",
       "      <td>1</td>\n",
       "      <td>4.0</td>\n",
       "      <td>4.0</td>\n",
       "      <td>3.0</td>\n",
       "      <td>High/ Medium</td>\n",
       "      <td>Unique</td>\n",
       "      <td>SUB</td>\n",
       "      <td>Permanent</td>\n",
       "      <td>189</td>\n",
       "      <td>82</td>\n",
       "      <td>157000000.0</td>\n",
       "    </tr>\n",
       "    <tr>\n",
       "      <th>1</th>\n",
       "      <td>Bruno Fernandes</td>\n",
       "      <td>27</td>\n",
       "      <td>Portugal</td>\n",
       "      <td>86</td>\n",
       "      <td>87</td>\n",
       "      <td>Manchester United</td>\n",
       "      <td>78500000.0</td>\n",
       "      <td>190000.0</td>\n",
       "      <td>1</td>\n",
       "      <td>3.0</td>\n",
       "      <td>3.0</td>\n",
       "      <td>4.0</td>\n",
       "      <td>High/ High</td>\n",
       "      <td>Unique</td>\n",
       "      <td>LCM</td>\n",
       "      <td>Permanent</td>\n",
       "      <td>179</td>\n",
       "      <td>69</td>\n",
       "      <td>155000000.0</td>\n",
       "    </tr>\n",
       "    <tr>\n",
       "      <th>2</th>\n",
       "      <td>M. Acuña</td>\n",
       "      <td>30</td>\n",
       "      <td>Argentina</td>\n",
       "      <td>85</td>\n",
       "      <td>85</td>\n",
       "      <td>Sevilla FC</td>\n",
       "      <td>46500000.0</td>\n",
       "      <td>46000.0</td>\n",
       "      <td>0</td>\n",
       "      <td>2.0</td>\n",
       "      <td>3.0</td>\n",
       "      <td>3.0</td>\n",
       "      <td>High/ High</td>\n",
       "      <td>Stocky</td>\n",
       "      <td>LB</td>\n",
       "      <td>Permanent</td>\n",
       "      <td>172</td>\n",
       "      <td>69</td>\n",
       "      <td>97700000.0</td>\n",
       "    </tr>\n",
       "    <tr>\n",
       "      <th>3</th>\n",
       "      <td>K. De Bruyne</td>\n",
       "      <td>31</td>\n",
       "      <td>Belgium</td>\n",
       "      <td>91</td>\n",
       "      <td>91</td>\n",
       "      <td>Manchester City</td>\n",
       "      <td>107500000.0</td>\n",
       "      <td>350000.0</td>\n",
       "      <td>1</td>\n",
       "      <td>4.0</td>\n",
       "      <td>5.0</td>\n",
       "      <td>4.0</td>\n",
       "      <td>High/ High</td>\n",
       "      <td>Unique</td>\n",
       "      <td>RCM</td>\n",
       "      <td>Permanent</td>\n",
       "      <td>181</td>\n",
       "      <td>70</td>\n",
       "      <td>198900000.0</td>\n",
       "    </tr>\n",
       "    <tr>\n",
       "      <th>4</th>\n",
       "      <td>N. Barella</td>\n",
       "      <td>25</td>\n",
       "      <td>Italy</td>\n",
       "      <td>86</td>\n",
       "      <td>89</td>\n",
       "      <td>Inter</td>\n",
       "      <td>89500000.0</td>\n",
       "      <td>110000.0</td>\n",
       "      <td>1</td>\n",
       "      <td>3.0</td>\n",
       "      <td>3.0</td>\n",
       "      <td>3.0</td>\n",
       "      <td>High/ High</td>\n",
       "      <td>Normal</td>\n",
       "      <td>RCM</td>\n",
       "      <td>Permanent</td>\n",
       "      <td>172</td>\n",
       "      <td>68</td>\n",
       "      <td>154400000.0</td>\n",
       "    </tr>\n",
       "    <tr>\n",
       "      <th>5</th>\n",
       "      <td>J. Kimmich</td>\n",
       "      <td>27</td>\n",
       "      <td>Germany</td>\n",
       "      <td>89</td>\n",
       "      <td>90</td>\n",
       "      <td>FC Bayern München</td>\n",
       "      <td>105500000.0</td>\n",
       "      <td>130000.0</td>\n",
       "      <td>1</td>\n",
       "      <td>4.0</td>\n",
       "      <td>4.0</td>\n",
       "      <td>3.0</td>\n",
       "      <td>High/ Medium</td>\n",
       "      <td>Normal</td>\n",
       "      <td>RDM</td>\n",
       "      <td>Permanent</td>\n",
       "      <td>177</td>\n",
       "      <td>75</td>\n",
       "      <td>182000000.0</td>\n",
       "    </tr>\n",
       "    <tr>\n",
       "      <th>6</th>\n",
       "      <td>D. Alaba</td>\n",
       "      <td>30</td>\n",
       "      <td>Austria</td>\n",
       "      <td>86</td>\n",
       "      <td>86</td>\n",
       "      <td>Real Madrid CF</td>\n",
       "      <td>55500000.0</td>\n",
       "      <td>220000.0</td>\n",
       "      <td>0</td>\n",
       "      <td>4.0</td>\n",
       "      <td>4.0</td>\n",
       "      <td>3.0</td>\n",
       "      <td>Medium/ Medium</td>\n",
       "      <td>Normal</td>\n",
       "      <td>LCB</td>\n",
       "      <td>Permanent</td>\n",
       "      <td>180</td>\n",
       "      <td>78</td>\n",
       "      <td>113800000.0</td>\n",
       "    </tr>\n",
       "    <tr>\n",
       "      <th>7</th>\n",
       "      <td>22 Paulinho</td>\n",
       "      <td>32</td>\n",
       "      <td>Brazil</td>\n",
       "      <td>83</td>\n",
       "      <td>83</td>\n",
       "      <td>Al Ahli</td>\n",
       "      <td>28500000.0</td>\n",
       "      <td>61000.0</td>\n",
       "      <td>1</td>\n",
       "      <td>3.0</td>\n",
       "      <td>4.0</td>\n",
       "      <td>4.0</td>\n",
       "      <td>High/ High</td>\n",
       "      <td>Normal</td>\n",
       "      <td>LCM</td>\n",
       "      <td>Permanent</td>\n",
       "      <td>183</td>\n",
       "      <td>80</td>\n",
       "      <td>48500000.0</td>\n",
       "    </tr>\n",
       "    <tr>\n",
       "      <th>8</th>\n",
       "      <td>E. Can</td>\n",
       "      <td>28</td>\n",
       "      <td>Germany</td>\n",
       "      <td>82</td>\n",
       "      <td>82</td>\n",
       "      <td>Borussia Dortmund</td>\n",
       "      <td>30500000.0</td>\n",
       "      <td>63000.0</td>\n",
       "      <td>1</td>\n",
       "      <td>3.0</td>\n",
       "      <td>4.0</td>\n",
       "      <td>3.0</td>\n",
       "      <td>Medium/ High</td>\n",
       "      <td>Stocky</td>\n",
       "      <td>SUB</td>\n",
       "      <td>Permanent</td>\n",
       "      <td>186</td>\n",
       "      <td>86</td>\n",
       "      <td>51900000.0</td>\n",
       "    </tr>\n",
       "    <tr>\n",
       "      <th>9</th>\n",
       "      <td>João Cancelo</td>\n",
       "      <td>28</td>\n",
       "      <td>Portugal</td>\n",
       "      <td>88</td>\n",
       "      <td>88</td>\n",
       "      <td>Manchester City</td>\n",
       "      <td>82500000.0</td>\n",
       "      <td>250000.0</td>\n",
       "      <td>1</td>\n",
       "      <td>3.0</td>\n",
       "      <td>4.0</td>\n",
       "      <td>4.0</td>\n",
       "      <td>High/ Medium</td>\n",
       "      <td>Unique</td>\n",
       "      <td>LB</td>\n",
       "      <td>Permanent</td>\n",
       "      <td>182</td>\n",
       "      <td>74</td>\n",
       "      <td>152600000.0</td>\n",
       "    </tr>\n",
       "  </tbody>\n",
       "</table>\n",
       "</div>"
      ],
      "text/plain": [
       "              Name  Age Nationality  Overall  Potential               Club  \\\n",
       "0      L. Goretzka   27     Germany       87         88  FC Bayern München   \n",
       "1  Bruno Fernandes   27    Portugal       86         87  Manchester United   \n",
       "2         M. Acuña   30   Argentina       85         85         Sevilla FC   \n",
       "3     K. De Bruyne   31     Belgium       91         91    Manchester City   \n",
       "4       N. Barella   25       Italy       86         89              Inter   \n",
       "5       J. Kimmich   27     Germany       89         90  FC Bayern München   \n",
       "6         D. Alaba   30     Austria       86         86     Real Madrid CF   \n",
       "7      22 Paulinho   32      Brazil       83         83            Al Ahli   \n",
       "8           E. Can   28     Germany       82         82  Borussia Dortmund   \n",
       "9     João Cancelo   28    Portugal       88         88    Manchester City   \n",
       "\n",
       "         Value      Wage  Preferred Foot  International Reputation  Weak Foot  \\\n",
       "0   91000000.0  115000.0               1                       4.0        4.0   \n",
       "1   78500000.0  190000.0               1                       3.0        3.0   \n",
       "2   46500000.0   46000.0               0                       2.0        3.0   \n",
       "3  107500000.0  350000.0               1                       4.0        5.0   \n",
       "4   89500000.0  110000.0               1                       3.0        3.0   \n",
       "5  105500000.0  130000.0               1                       4.0        4.0   \n",
       "6   55500000.0  220000.0               0                       4.0        4.0   \n",
       "7   28500000.0   61000.0               1                       3.0        4.0   \n",
       "8   30500000.0   63000.0               1                       3.0        4.0   \n",
       "9   82500000.0  250000.0               1                       3.0        4.0   \n",
       "\n",
       "   Skill Moves       Work Rate Body Type Position Loaned From  Height  Weight  \\\n",
       "0          3.0    High/ Medium    Unique      SUB   Permanent     189      82   \n",
       "1          4.0      High/ High    Unique      LCM   Permanent     179      69   \n",
       "2          3.0      High/ High    Stocky       LB   Permanent     172      69   \n",
       "3          4.0      High/ High    Unique      RCM   Permanent     181      70   \n",
       "4          3.0      High/ High    Normal      RCM   Permanent     172      68   \n",
       "5          3.0    High/ Medium    Normal      RDM   Permanent     177      75   \n",
       "6          3.0  Medium/ Medium    Normal      LCB   Permanent     180      78   \n",
       "7          4.0      High/ High    Normal      LCM   Permanent     183      80   \n",
       "8          3.0    Medium/ High    Stocky      SUB   Permanent     186      86   \n",
       "9          4.0    High/ Medium    Unique       LB   Permanent     182      74   \n",
       "\n",
       "   Release Clause  \n",
       "0     157000000.0  \n",
       "1     155000000.0  \n",
       "2      97700000.0  \n",
       "3     198900000.0  \n",
       "4     154400000.0  \n",
       "5     182000000.0  \n",
       "6     113800000.0  \n",
       "7      48500000.0  \n",
       "8      51900000.0  \n",
       "9     152600000.0  "
      ]
     },
     "execution_count": 431,
     "metadata": {},
     "output_type": "execute_result"
    }
   ],
   "source": [
    "df.head(10)"
   ]
  },
  {
   "cell_type": "code",
   "execution_count": 432,
   "metadata": {},
   "outputs": [
    {
     "name": "stdout",
     "output_type": "stream",
     "text": [
      "<class 'pandas.core.frame.DataFrame'>\n",
      "Index: 17625 entries, 0 to 17659\n",
      "Data columns (total 19 columns):\n",
      " #   Column                    Non-Null Count  Dtype   \n",
      "---  ------                    --------------  -----   \n",
      " 0   Name                      17625 non-null  object  \n",
      " 1   Age                       17625 non-null  int64   \n",
      " 2   Nationality               17625 non-null  object  \n",
      " 3   Overall                   17625 non-null  int64   \n",
      " 4   Potential                 17625 non-null  int64   \n",
      " 5   Club                      17625 non-null  category\n",
      " 6   Value                     17625 non-null  float64 \n",
      " 7   Wage                      17625 non-null  float64 \n",
      " 8   Preferred Foot            17625 non-null  int64   \n",
      " 9   International Reputation  17625 non-null  float64 \n",
      " 10  Weak Foot                 17625 non-null  float64 \n",
      " 11  Skill Moves               17625 non-null  float64 \n",
      " 12  Work Rate                 17625 non-null  object  \n",
      " 13  Body Type                 17625 non-null  object  \n",
      " 14  Position                  17625 non-null  category\n",
      " 15  Loaned From               17625 non-null  category\n",
      " 16  Height                    17625 non-null  int64   \n",
      " 17  Weight                    17625 non-null  int64   \n",
      " 18  Release Clause            17625 non-null  float64 \n",
      "dtypes: category(3), float64(6), int64(6), object(4)\n",
      "memory usage: 2.4+ MB\n"
     ]
    }
   ],
   "source": [
    "df.info()"
   ]
  },
  {
   "cell_type": "code",
   "execution_count": 433,
   "metadata": {},
   "outputs": [
    {
     "data": {
      "text/html": [
       "<div>\n",
       "<style scoped>\n",
       "    .dataframe tbody tr th:only-of-type {\n",
       "        vertical-align: middle;\n",
       "    }\n",
       "\n",
       "    .dataframe tbody tr th {\n",
       "        vertical-align: top;\n",
       "    }\n",
       "\n",
       "    .dataframe thead th {\n",
       "        text-align: right;\n",
       "    }\n",
       "</style>\n",
       "<table border=\"1\" class=\"dataframe\">\n",
       "  <thead>\n",
       "    <tr style=\"text-align: right;\">\n",
       "      <th></th>\n",
       "      <th>count</th>\n",
       "      <th>mean</th>\n",
       "      <th>std</th>\n",
       "      <th>min</th>\n",
       "      <th>25%</th>\n",
       "      <th>50%</th>\n",
       "      <th>75%</th>\n",
       "      <th>max</th>\n",
       "    </tr>\n",
       "  </thead>\n",
       "  <tbody>\n",
       "    <tr>\n",
       "      <th>Age</th>\n",
       "      <td>17625.0</td>\n",
       "      <td>2.312074e+01</td>\n",
       "      <td>4.632641e+00</td>\n",
       "      <td>15.0</td>\n",
       "      <td>20.0</td>\n",
       "      <td>22.0</td>\n",
       "      <td>26.0</td>\n",
       "      <td>54.0</td>\n",
       "    </tr>\n",
       "    <tr>\n",
       "      <th>Overall</th>\n",
       "      <td>17625.0</td>\n",
       "      <td>6.336618e+01</td>\n",
       "      <td>8.035267e+00</td>\n",
       "      <td>43.0</td>\n",
       "      <td>58.0</td>\n",
       "      <td>63.0</td>\n",
       "      <td>69.0</td>\n",
       "      <td>91.0</td>\n",
       "    </tr>\n",
       "    <tr>\n",
       "      <th>Potential</th>\n",
       "      <td>17625.0</td>\n",
       "      <td>7.098082e+01</td>\n",
       "      <td>6.529897e+00</td>\n",
       "      <td>42.0</td>\n",
       "      <td>67.0</td>\n",
       "      <td>71.0</td>\n",
       "      <td>75.0</td>\n",
       "      <td>95.0</td>\n",
       "    </tr>\n",
       "    <tr>\n",
       "      <th>Value</th>\n",
       "      <td>17625.0</td>\n",
       "      <td>2.745215e+06</td>\n",
       "      <td>7.848111e+06</td>\n",
       "      <td>0.0</td>\n",
       "      <td>325000.0</td>\n",
       "      <td>700000.0</td>\n",
       "      <td>1800000.0</td>\n",
       "      <td>190500000.0</td>\n",
       "    </tr>\n",
       "    <tr>\n",
       "      <th>Wage</th>\n",
       "      <td>17625.0</td>\n",
       "      <td>8.205957e+03</td>\n",
       "      <td>2.049384e+04</td>\n",
       "      <td>0.0</td>\n",
       "      <td>550.0</td>\n",
       "      <td>2000.0</td>\n",
       "      <td>6000.0</td>\n",
       "      <td>450000.0</td>\n",
       "    </tr>\n",
       "    <tr>\n",
       "      <th>Preferred Foot</th>\n",
       "      <td>17625.0</td>\n",
       "      <td>7.727092e-01</td>\n",
       "      <td>4.190938e-01</td>\n",
       "      <td>0.0</td>\n",
       "      <td>1.0</td>\n",
       "      <td>1.0</td>\n",
       "      <td>1.0</td>\n",
       "      <td>1.0</td>\n",
       "    </tr>\n",
       "    <tr>\n",
       "      <th>International Reputation</th>\n",
       "      <td>17625.0</td>\n",
       "      <td>1.105418e+00</td>\n",
       "      <td>4.049549e-01</td>\n",
       "      <td>1.0</td>\n",
       "      <td>1.0</td>\n",
       "      <td>1.0</td>\n",
       "      <td>1.0</td>\n",
       "      <td>5.0</td>\n",
       "    </tr>\n",
       "    <tr>\n",
       "      <th>Weak Foot</th>\n",
       "      <td>17625.0</td>\n",
       "      <td>2.899972e+00</td>\n",
       "      <td>6.630721e-01</td>\n",
       "      <td>1.0</td>\n",
       "      <td>3.0</td>\n",
       "      <td>3.0</td>\n",
       "      <td>3.0</td>\n",
       "      <td>5.0</td>\n",
       "    </tr>\n",
       "    <tr>\n",
       "      <th>Skill Moves</th>\n",
       "      <td>17625.0</td>\n",
       "      <td>2.297589e+00</td>\n",
       "      <td>7.538729e-01</td>\n",
       "      <td>1.0</td>\n",
       "      <td>2.0</td>\n",
       "      <td>2.0</td>\n",
       "      <td>3.0</td>\n",
       "      <td>5.0</td>\n",
       "    </tr>\n",
       "    <tr>\n",
       "      <th>Height</th>\n",
       "      <td>17625.0</td>\n",
       "      <td>1.808930e+02</td>\n",
       "      <td>6.964073e+00</td>\n",
       "      <td>149.0</td>\n",
       "      <td>176.0</td>\n",
       "      <td>181.0</td>\n",
       "      <td>186.0</td>\n",
       "      <td>206.0</td>\n",
       "    </tr>\n",
       "    <tr>\n",
       "      <th>Weight</th>\n",
       "      <td>17625.0</td>\n",
       "      <td>7.432550e+01</td>\n",
       "      <td>6.981411e+00</td>\n",
       "      <td>48.0</td>\n",
       "      <td>70.0</td>\n",
       "      <td>74.0</td>\n",
       "      <td>79.0</td>\n",
       "      <td>110.0</td>\n",
       "    </tr>\n",
       "    <tr>\n",
       "      <th>Release Clause</th>\n",
       "      <td>17625.0</td>\n",
       "      <td>5.035826e+06</td>\n",
       "      <td>1.510840e+07</td>\n",
       "      <td>0.0</td>\n",
       "      <td>500000.0</td>\n",
       "      <td>1200000.0</td>\n",
       "      <td>3100000.0</td>\n",
       "      <td>366700000.0</td>\n",
       "    </tr>\n",
       "  </tbody>\n",
       "</table>\n",
       "</div>"
      ],
      "text/plain": [
       "                            count          mean           std    min  \\\n",
       "Age                       17625.0  2.312074e+01  4.632641e+00   15.0   \n",
       "Overall                   17625.0  6.336618e+01  8.035267e+00   43.0   \n",
       "Potential                 17625.0  7.098082e+01  6.529897e+00   42.0   \n",
       "Value                     17625.0  2.745215e+06  7.848111e+06    0.0   \n",
       "Wage                      17625.0  8.205957e+03  2.049384e+04    0.0   \n",
       "Preferred Foot            17625.0  7.727092e-01  4.190938e-01    0.0   \n",
       "International Reputation  17625.0  1.105418e+00  4.049549e-01    1.0   \n",
       "Weak Foot                 17625.0  2.899972e+00  6.630721e-01    1.0   \n",
       "Skill Moves               17625.0  2.297589e+00  7.538729e-01    1.0   \n",
       "Height                    17625.0  1.808930e+02  6.964073e+00  149.0   \n",
       "Weight                    17625.0  7.432550e+01  6.981411e+00   48.0   \n",
       "Release Clause            17625.0  5.035826e+06  1.510840e+07    0.0   \n",
       "\n",
       "                               25%        50%        75%          max  \n",
       "Age                           20.0       22.0       26.0         54.0  \n",
       "Overall                       58.0       63.0       69.0         91.0  \n",
       "Potential                     67.0       71.0       75.0         95.0  \n",
       "Value                     325000.0   700000.0  1800000.0  190500000.0  \n",
       "Wage                         550.0     2000.0     6000.0     450000.0  \n",
       "Preferred Foot                 1.0        1.0        1.0          1.0  \n",
       "International Reputation       1.0        1.0        1.0          5.0  \n",
       "Weak Foot                      3.0        3.0        3.0          5.0  \n",
       "Skill Moves                    2.0        2.0        3.0          5.0  \n",
       "Height                       176.0      181.0      186.0        206.0  \n",
       "Weight                        70.0       74.0       79.0        110.0  \n",
       "Release Clause            500000.0  1200000.0  3100000.0  366700000.0  "
      ]
     },
     "execution_count": 433,
     "metadata": {},
     "output_type": "execute_result"
    }
   ],
   "source": [
    "df.describe().T"
   ]
  },
  {
   "cell_type": "code",
   "execution_count": 434,
   "metadata": {},
   "outputs": [
    {
     "data": {
      "text/plain": [
       "Name                        0\n",
       "Age                         0\n",
       "Nationality                 0\n",
       "Overall                     0\n",
       "Potential                   0\n",
       "Club                        0\n",
       "Value                       0\n",
       "Wage                        0\n",
       "Preferred Foot              0\n",
       "International Reputation    0\n",
       "Weak Foot                   0\n",
       "Skill Moves                 0\n",
       "Work Rate                   0\n",
       "Body Type                   0\n",
       "Position                    0\n",
       "Loaned From                 0\n",
       "Height                      0\n",
       "Weight                      0\n",
       "Release Clause              0\n",
       "dtype: int64"
      ]
     },
     "execution_count": 434,
     "metadata": {},
     "output_type": "execute_result"
    }
   ],
   "source": [
    "df.isnull().sum()"
   ]
  },
  {
   "cell_type": "code",
   "execution_count": 435,
   "metadata": {},
   "outputs": [
    {
     "data": {
      "text/plain": [
       "(17625, 19)"
      ]
     },
     "execution_count": 435,
     "metadata": {},
     "output_type": "execute_result"
    }
   ],
   "source": [
    "df.shape"
   ]
  },
  {
   "cell_type": "markdown",
   "metadata": {},
   "source": [
    "# Dataset Splitting"
   ]
  },
  {
   "cell_type": "markdown",
   "metadata": {},
   "source": [
    "We split the dataset into:\n",
    "\n",
    "- **Training (& Validation) dataset**: 80% of the data.\n",
    "- **Test dataset**: 20% of the data for final evaluation.\n",
    "\n",
    "Test dataset will be used only for the final predictions! We assume that during the entire study Training does not have access to it and do not study its statistical properties."
   ]
  },
  {
   "cell_type": "code",
   "execution_count": 438,
   "metadata": {},
   "outputs": [],
   "source": [
    "# Define features (X) and target (y)\n",
    "X = df.drop('Overall', axis = 1)\n",
    "y = df['Overall']\n",
    "\n",
    "# Split into training and testing set\n",
    "X_train, X_test, y_train, y_test = train_test_split(X, y, test_size=0.2, random_state=42)"
   ]
  },
  {
   "cell_type": "code",
   "execution_count": 439,
   "metadata": {},
   "outputs": [
    {
     "name": "stdout",
     "output_type": "stream",
     "text": [
      "(14100, 18) (3525, 18)\n"
     ]
    }
   ],
   "source": [
    "print(X_train.shape, X_test.shape)"
   ]
  },
  {
   "cell_type": "code",
   "execution_count": 440,
   "metadata": {},
   "outputs": [
    {
     "name": "stdout",
     "output_type": "stream",
     "text": [
      "(14100,) (3525,)\n"
     ]
    }
   ],
   "source": [
    "print(y_train.shape, y_test.shape)"
   ]
  },
  {
   "cell_type": "markdown",
   "metadata": {},
   "source": [
    "# EDA (Exploratory Data Analysis)"
   ]
  },
  {
   "cell_type": "markdown",
   "metadata": {},
   "source": [
    "## Descriptive analyses of the data"
   ]
  },
  {
   "cell_type": "code",
   "execution_count": 443,
   "metadata": {},
   "outputs": [
    {
     "data": {
      "text/html": [
       "<div>\n",
       "<style scoped>\n",
       "    .dataframe tbody tr th:only-of-type {\n",
       "        vertical-align: middle;\n",
       "    }\n",
       "\n",
       "    .dataframe tbody tr th {\n",
       "        vertical-align: top;\n",
       "    }\n",
       "\n",
       "    .dataframe thead th {\n",
       "        text-align: right;\n",
       "    }\n",
       "</style>\n",
       "<table border=\"1\" class=\"dataframe\">\n",
       "  <thead>\n",
       "    <tr style=\"text-align: right;\">\n",
       "      <th></th>\n",
       "      <th>Name</th>\n",
       "      <th>Age</th>\n",
       "      <th>Nationality</th>\n",
       "      <th>Potential</th>\n",
       "      <th>Club</th>\n",
       "      <th>Value</th>\n",
       "      <th>Wage</th>\n",
       "      <th>Preferred Foot</th>\n",
       "      <th>International Reputation</th>\n",
       "      <th>Weak Foot</th>\n",
       "      <th>Skill Moves</th>\n",
       "      <th>Work Rate</th>\n",
       "      <th>Body Type</th>\n",
       "      <th>Position</th>\n",
       "      <th>Loaned From</th>\n",
       "      <th>Height</th>\n",
       "      <th>Weight</th>\n",
       "      <th>Release Clause</th>\n",
       "    </tr>\n",
       "  </thead>\n",
       "  <tbody>\n",
       "    <tr>\n",
       "      <th>6023</th>\n",
       "      <td>H. Stenevik</td>\n",
       "      <td>22</td>\n",
       "      <td>Norway</td>\n",
       "      <td>74</td>\n",
       "      <td>Strømsgodset IF</td>\n",
       "      <td>1100000.0</td>\n",
       "      <td>1000.0</td>\n",
       "      <td>1</td>\n",
       "      <td>1.0</td>\n",
       "      <td>3.0</td>\n",
       "      <td>4.0</td>\n",
       "      <td>Medium/ High</td>\n",
       "      <td>Lean</td>\n",
       "      <td>RW</td>\n",
       "      <td>Permanent</td>\n",
       "      <td>185</td>\n",
       "      <td>70</td>\n",
       "      <td>1600000.0</td>\n",
       "    </tr>\n",
       "    <tr>\n",
       "      <th>17163</th>\n",
       "      <td>22 T. Wooster</td>\n",
       "      <td>16</td>\n",
       "      <td>England</td>\n",
       "      <td>73</td>\n",
       "      <td>Manchester United</td>\n",
       "      <td>230000.0</td>\n",
       "      <td>500.0</td>\n",
       "      <td>1</td>\n",
       "      <td>1.0</td>\n",
       "      <td>3.0</td>\n",
       "      <td>1.0</td>\n",
       "      <td>Medium/ Medium</td>\n",
       "      <td>Lean</td>\n",
       "      <td>RES</td>\n",
       "      <td>Permanent</td>\n",
       "      <td>195</td>\n",
       "      <td>85</td>\n",
       "      <td>656000.0</td>\n",
       "    </tr>\n",
       "    <tr>\n",
       "      <th>1750</th>\n",
       "      <td>14 J. Rothen</td>\n",
       "      <td>35</td>\n",
       "      <td>France</td>\n",
       "      <td>71</td>\n",
       "      <td>Stade Malherbe Caen</td>\n",
       "      <td>325000.0</td>\n",
       "      <td>15000.0</td>\n",
       "      <td>0</td>\n",
       "      <td>2.0</td>\n",
       "      <td>2.0</td>\n",
       "      <td>3.0</td>\n",
       "      <td>Medium/ Medium</td>\n",
       "      <td>Normal</td>\n",
       "      <td>SUB</td>\n",
       "      <td>Permanent</td>\n",
       "      <td>177</td>\n",
       "      <td>74</td>\n",
       "      <td>0.0</td>\n",
       "    </tr>\n",
       "    <tr>\n",
       "      <th>2661</th>\n",
       "      <td>22 D. Noboa</td>\n",
       "      <td>26</td>\n",
       "      <td>Ecuador</td>\n",
       "      <td>70</td>\n",
       "      <td>Guayaquil City FC</td>\n",
       "      <td>1100000.0</td>\n",
       "      <td>500.0</td>\n",
       "      <td>1</td>\n",
       "      <td>1.0</td>\n",
       "      <td>3.0</td>\n",
       "      <td>2.0</td>\n",
       "      <td>Medium/ High</td>\n",
       "      <td>Normal</td>\n",
       "      <td>LDM</td>\n",
       "      <td>Permanent</td>\n",
       "      <td>183</td>\n",
       "      <td>79</td>\n",
       "      <td>2400000.0</td>\n",
       "    </tr>\n",
       "    <tr>\n",
       "      <th>13361</th>\n",
       "      <td>22 Baek Seung Woo</td>\n",
       "      <td>22</td>\n",
       "      <td>Korea Republic</td>\n",
       "      <td>62</td>\n",
       "      <td>Jeju United FC</td>\n",
       "      <td>180000.0</td>\n",
       "      <td>1000.0</td>\n",
       "      <td>1</td>\n",
       "      <td>1.0</td>\n",
       "      <td>3.0</td>\n",
       "      <td>2.0</td>\n",
       "      <td>Medium/ Medium</td>\n",
       "      <td>Normal</td>\n",
       "      <td>SUB</td>\n",
       "      <td>Permanent</td>\n",
       "      <td>170</td>\n",
       "      <td>65</td>\n",
       "      <td>261000.0</td>\n",
       "    </tr>\n",
       "    <tr>\n",
       "      <th>2158</th>\n",
       "      <td>22 Pipa</td>\n",
       "      <td>23</td>\n",
       "      <td>Spain</td>\n",
       "      <td>78</td>\n",
       "      <td>Huddersfield Town</td>\n",
       "      <td>3600000.0</td>\n",
       "      <td>6000.0</td>\n",
       "      <td>1</td>\n",
       "      <td>1.0</td>\n",
       "      <td>4.0</td>\n",
       "      <td>3.0</td>\n",
       "      <td>Medium/ Medium</td>\n",
       "      <td>Normal</td>\n",
       "      <td>SUB</td>\n",
       "      <td>Permanent</td>\n",
       "      <td>176</td>\n",
       "      <td>72</td>\n",
       "      <td>7600000.0</td>\n",
       "    </tr>\n",
       "    <tr>\n",
       "      <th>15054</th>\n",
       "      <td>22 Park Seong Hun</td>\n",
       "      <td>18</td>\n",
       "      <td>Korea Republic</td>\n",
       "      <td>66</td>\n",
       "      <td>FC Seoul</td>\n",
       "      <td>110000.0</td>\n",
       "      <td>500.0</td>\n",
       "      <td>1</td>\n",
       "      <td>1.0</td>\n",
       "      <td>4.0</td>\n",
       "      <td>2.0</td>\n",
       "      <td>Medium/ High</td>\n",
       "      <td>Normal</td>\n",
       "      <td>RES</td>\n",
       "      <td>Permanent</td>\n",
       "      <td>183</td>\n",
       "      <td>72</td>\n",
       "      <td>206000.0</td>\n",
       "    </tr>\n",
       "    <tr>\n",
       "      <th>11363</th>\n",
       "      <td>E. Hellman</td>\n",
       "      <td>21</td>\n",
       "      <td>Sweden</td>\n",
       "      <td>71</td>\n",
       "      <td>Helsingborgs IF</td>\n",
       "      <td>525000.0</td>\n",
       "      <td>500.0</td>\n",
       "      <td>0</td>\n",
       "      <td>1.0</td>\n",
       "      <td>3.0</td>\n",
       "      <td>2.0</td>\n",
       "      <td>Medium/ Medium</td>\n",
       "      <td>Normal</td>\n",
       "      <td>RB</td>\n",
       "      <td>Permanent</td>\n",
       "      <td>183</td>\n",
       "      <td>79</td>\n",
       "      <td>761000.0</td>\n",
       "    </tr>\n",
       "    <tr>\n",
       "      <th>11033</th>\n",
       "      <td>C. Kaymaz</td>\n",
       "      <td>24</td>\n",
       "      <td>Germany</td>\n",
       "      <td>63</td>\n",
       "      <td>SpVgg Bayreuth</td>\n",
       "      <td>275000.0</td>\n",
       "      <td>500.0</td>\n",
       "      <td>1</td>\n",
       "      <td>1.0</td>\n",
       "      <td>4.0</td>\n",
       "      <td>2.0</td>\n",
       "      <td>Medium/ Medium</td>\n",
       "      <td>Normal</td>\n",
       "      <td>RES</td>\n",
       "      <td>Permanent</td>\n",
       "      <td>187</td>\n",
       "      <td>80</td>\n",
       "      <td>454000.0</td>\n",
       "    </tr>\n",
       "    <tr>\n",
       "      <th>6113</th>\n",
       "      <td>Joan González</td>\n",
       "      <td>20</td>\n",
       "      <td>Spain</td>\n",
       "      <td>70</td>\n",
       "      <td>Lecce</td>\n",
       "      <td>500000.0</td>\n",
       "      <td>2000.0</td>\n",
       "      <td>1</td>\n",
       "      <td>1.0</td>\n",
       "      <td>3.0</td>\n",
       "      <td>3.0</td>\n",
       "      <td>High/ High</td>\n",
       "      <td>Normal</td>\n",
       "      <td>RES</td>\n",
       "      <td>Permanent</td>\n",
       "      <td>190</td>\n",
       "      <td>82</td>\n",
       "      <td>1000000.0</td>\n",
       "    </tr>\n",
       "  </tbody>\n",
       "</table>\n",
       "</div>"
      ],
      "text/plain": [
       "                    Name  Age     Nationality  Potential                 Club  \\\n",
       "6023         H. Stenevik   22          Norway         74      Strømsgodset IF   \n",
       "17163      22 T. Wooster   16         England         73    Manchester United   \n",
       "1750        14 J. Rothen   35          France         71  Stade Malherbe Caen   \n",
       "2661         22 D. Noboa   26         Ecuador         70    Guayaquil City FC   \n",
       "13361  22 Baek Seung Woo   22  Korea Republic         62       Jeju United FC   \n",
       "2158             22 Pipa   23           Spain         78    Huddersfield Town   \n",
       "15054  22 Park Seong Hun   18  Korea Republic         66             FC Seoul   \n",
       "11363         E. Hellman   21          Sweden         71      Helsingborgs IF   \n",
       "11033          C. Kaymaz   24         Germany         63       SpVgg Bayreuth   \n",
       "6113       Joan González   20           Spain         70                Lecce   \n",
       "\n",
       "           Value     Wage  Preferred Foot  International Reputation  \\\n",
       "6023   1100000.0   1000.0               1                       1.0   \n",
       "17163   230000.0    500.0               1                       1.0   \n",
       "1750    325000.0  15000.0               0                       2.0   \n",
       "2661   1100000.0    500.0               1                       1.0   \n",
       "13361   180000.0   1000.0               1                       1.0   \n",
       "2158   3600000.0   6000.0               1                       1.0   \n",
       "15054   110000.0    500.0               1                       1.0   \n",
       "11363   525000.0    500.0               0                       1.0   \n",
       "11033   275000.0    500.0               1                       1.0   \n",
       "6113    500000.0   2000.0               1                       1.0   \n",
       "\n",
       "       Weak Foot  Skill Moves       Work Rate Body Type Position Loaned From  \\\n",
       "6023         3.0          4.0    Medium/ High      Lean       RW   Permanent   \n",
       "17163        3.0          1.0  Medium/ Medium      Lean      RES   Permanent   \n",
       "1750         2.0          3.0  Medium/ Medium    Normal      SUB   Permanent   \n",
       "2661         3.0          2.0    Medium/ High    Normal      LDM   Permanent   \n",
       "13361        3.0          2.0  Medium/ Medium    Normal      SUB   Permanent   \n",
       "2158         4.0          3.0  Medium/ Medium    Normal      SUB   Permanent   \n",
       "15054        4.0          2.0    Medium/ High    Normal      RES   Permanent   \n",
       "11363        3.0          2.0  Medium/ Medium    Normal       RB   Permanent   \n",
       "11033        4.0          2.0  Medium/ Medium    Normal      RES   Permanent   \n",
       "6113         3.0          3.0      High/ High    Normal      RES   Permanent   \n",
       "\n",
       "       Height  Weight  Release Clause  \n",
       "6023      185      70       1600000.0  \n",
       "17163     195      85        656000.0  \n",
       "1750      177      74             0.0  \n",
       "2661      183      79       2400000.0  \n",
       "13361     170      65        261000.0  \n",
       "2158      176      72       7600000.0  \n",
       "15054     183      72        206000.0  \n",
       "11363     183      79        761000.0  \n",
       "11033     187      80        454000.0  \n",
       "6113      190      82       1000000.0  "
      ]
     },
     "execution_count": 443,
     "metadata": {},
     "output_type": "execute_result"
    }
   ],
   "source": [
    "X_train.head(10)"
   ]
  },
  {
   "cell_type": "code",
   "execution_count": 444,
   "metadata": {},
   "outputs": [
    {
     "data": {
      "text/plain": [
       "6023     63\n",
       "17163    53\n",
       "1750     71\n",
       "2661     66\n",
       "13361    52\n",
       "2158     71\n",
       "15054    50\n",
       "11363    59\n",
       "11033    56\n",
       "6113     59\n",
       "Name: Overall, dtype: int64"
      ]
     },
     "execution_count": 444,
     "metadata": {},
     "output_type": "execute_result"
    }
   ],
   "source": [
    "y_train.head(10)"
   ]
  },
  {
   "cell_type": "code",
   "execution_count": 445,
   "metadata": {},
   "outputs": [
    {
     "name": "stdout",
     "output_type": "stream",
     "text": [
      "<class 'pandas.core.frame.DataFrame'>\n",
      "Index: 14100 entries, 6023 to 15826\n",
      "Data columns (total 18 columns):\n",
      " #   Column                    Non-Null Count  Dtype   \n",
      "---  ------                    --------------  -----   \n",
      " 0   Name                      14100 non-null  object  \n",
      " 1   Age                       14100 non-null  int64   \n",
      " 2   Nationality               14100 non-null  object  \n",
      " 3   Potential                 14100 non-null  int64   \n",
      " 4   Club                      14100 non-null  category\n",
      " 5   Value                     14100 non-null  float64 \n",
      " 6   Wage                      14100 non-null  float64 \n",
      " 7   Preferred Foot            14100 non-null  int64   \n",
      " 8   International Reputation  14100 non-null  float64 \n",
      " 9   Weak Foot                 14100 non-null  float64 \n",
      " 10  Skill Moves               14100 non-null  float64 \n",
      " 11  Work Rate                 14100 non-null  object  \n",
      " 12  Body Type                 14100 non-null  object  \n",
      " 13  Position                  14100 non-null  category\n",
      " 14  Loaned From               14100 non-null  category\n",
      " 15  Height                    14100 non-null  int64   \n",
      " 16  Weight                    14100 non-null  int64   \n",
      " 17  Release Clause            14100 non-null  float64 \n",
      "dtypes: category(3), float64(6), int64(5), object(4)\n",
      "memory usage: 1.8+ MB\n"
     ]
    }
   ],
   "source": [
    "X_train.info()"
   ]
  },
  {
   "cell_type": "code",
   "execution_count": 446,
   "metadata": {},
   "outputs": [
    {
     "name": "stdout",
     "output_type": "stream",
     "text": [
      "<class 'pandas.core.series.Series'>\n",
      "Index: 14100 entries, 6023 to 15826\n",
      "Series name: Overall\n",
      "Non-Null Count  Dtype\n",
      "--------------  -----\n",
      "14100 non-null  int64\n",
      "dtypes: int64(1)\n",
      "memory usage: 220.3 KB\n"
     ]
    }
   ],
   "source": [
    "y_train.info()"
   ]
  },
  {
   "cell_type": "markdown",
   "metadata": {},
   "source": [
    "### Summary statistics"
   ]
  },
  {
   "cell_type": "code",
   "execution_count": 448,
   "metadata": {},
   "outputs": [
    {
     "data": {
      "text/html": [
       "<div>\n",
       "<style scoped>\n",
       "    .dataframe tbody tr th:only-of-type {\n",
       "        vertical-align: middle;\n",
       "    }\n",
       "\n",
       "    .dataframe tbody tr th {\n",
       "        vertical-align: top;\n",
       "    }\n",
       "\n",
       "    .dataframe thead th {\n",
       "        text-align: right;\n",
       "    }\n",
       "</style>\n",
       "<table border=\"1\" class=\"dataframe\">\n",
       "  <thead>\n",
       "    <tr style=\"text-align: right;\">\n",
       "      <th></th>\n",
       "      <th>count</th>\n",
       "      <th>mean</th>\n",
       "      <th>std</th>\n",
       "      <th>min</th>\n",
       "      <th>25%</th>\n",
       "      <th>50%</th>\n",
       "      <th>75%</th>\n",
       "      <th>max</th>\n",
       "    </tr>\n",
       "  </thead>\n",
       "  <tbody>\n",
       "    <tr>\n",
       "      <th>Age</th>\n",
       "      <td>14100.0</td>\n",
       "      <td>2.313163e+01</td>\n",
       "      <td>4.652105e+00</td>\n",
       "      <td>15.0</td>\n",
       "      <td>20.0</td>\n",
       "      <td>22.0</td>\n",
       "      <td>26.0</td>\n",
       "      <td>54.0</td>\n",
       "    </tr>\n",
       "    <tr>\n",
       "      <th>Potential</th>\n",
       "      <td>14100.0</td>\n",
       "      <td>7.096837e+01</td>\n",
       "      <td>6.525979e+00</td>\n",
       "      <td>48.0</td>\n",
       "      <td>67.0</td>\n",
       "      <td>71.0</td>\n",
       "      <td>75.0</td>\n",
       "      <td>95.0</td>\n",
       "    </tr>\n",
       "    <tr>\n",
       "      <th>Value</th>\n",
       "      <td>14100.0</td>\n",
       "      <td>2.754707e+06</td>\n",
       "      <td>7.901066e+06</td>\n",
       "      <td>0.0</td>\n",
       "      <td>325000.0</td>\n",
       "      <td>700000.0</td>\n",
       "      <td>1800000.0</td>\n",
       "      <td>190500000.0</td>\n",
       "    </tr>\n",
       "    <tr>\n",
       "      <th>Wage</th>\n",
       "      <td>14100.0</td>\n",
       "      <td>8.230248e+03</td>\n",
       "      <td>2.056908e+04</td>\n",
       "      <td>0.0</td>\n",
       "      <td>550.0</td>\n",
       "      <td>2000.0</td>\n",
       "      <td>6000.0</td>\n",
       "      <td>450000.0</td>\n",
       "    </tr>\n",
       "    <tr>\n",
       "      <th>Preferred Foot</th>\n",
       "      <td>14100.0</td>\n",
       "      <td>7.703546e-01</td>\n",
       "      <td>4.206197e-01</td>\n",
       "      <td>0.0</td>\n",
       "      <td>1.0</td>\n",
       "      <td>1.0</td>\n",
       "      <td>1.0</td>\n",
       "      <td>1.0</td>\n",
       "    </tr>\n",
       "    <tr>\n",
       "      <th>International Reputation</th>\n",
       "      <td>14100.0</td>\n",
       "      <td>1.105461e+00</td>\n",
       "      <td>4.067119e-01</td>\n",
       "      <td>1.0</td>\n",
       "      <td>1.0</td>\n",
       "      <td>1.0</td>\n",
       "      <td>1.0</td>\n",
       "      <td>5.0</td>\n",
       "    </tr>\n",
       "    <tr>\n",
       "      <th>Weak Foot</th>\n",
       "      <td>14100.0</td>\n",
       "      <td>2.901348e+00</td>\n",
       "      <td>6.648317e-01</td>\n",
       "      <td>1.0</td>\n",
       "      <td>3.0</td>\n",
       "      <td>3.0</td>\n",
       "      <td>3.0</td>\n",
       "      <td>5.0</td>\n",
       "    </tr>\n",
       "    <tr>\n",
       "      <th>Skill Moves</th>\n",
       "      <td>14100.0</td>\n",
       "      <td>2.297660e+00</td>\n",
       "      <td>7.566394e-01</td>\n",
       "      <td>1.0</td>\n",
       "      <td>2.0</td>\n",
       "      <td>2.0</td>\n",
       "      <td>3.0</td>\n",
       "      <td>5.0</td>\n",
       "    </tr>\n",
       "    <tr>\n",
       "      <th>Height</th>\n",
       "      <td>14100.0</td>\n",
       "      <td>1.808955e+02</td>\n",
       "      <td>6.957059e+00</td>\n",
       "      <td>149.0</td>\n",
       "      <td>176.0</td>\n",
       "      <td>180.0</td>\n",
       "      <td>186.0</td>\n",
       "      <td>206.0</td>\n",
       "    </tr>\n",
       "    <tr>\n",
       "      <th>Weight</th>\n",
       "      <td>14100.0</td>\n",
       "      <td>7.428723e+01</td>\n",
       "      <td>6.980070e+00</td>\n",
       "      <td>48.0</td>\n",
       "      <td>70.0</td>\n",
       "      <td>74.0</td>\n",
       "      <td>79.0</td>\n",
       "      <td>110.0</td>\n",
       "    </tr>\n",
       "    <tr>\n",
       "      <th>Release Clause</th>\n",
       "      <td>14100.0</td>\n",
       "      <td>5.047875e+06</td>\n",
       "      <td>1.521871e+07</td>\n",
       "      <td>0.0</td>\n",
       "      <td>504000.0</td>\n",
       "      <td>1200000.0</td>\n",
       "      <td>3000000.0</td>\n",
       "      <td>366700000.0</td>\n",
       "    </tr>\n",
       "  </tbody>\n",
       "</table>\n",
       "</div>"
      ],
      "text/plain": [
       "                            count          mean           std    min  \\\n",
       "Age                       14100.0  2.313163e+01  4.652105e+00   15.0   \n",
       "Potential                 14100.0  7.096837e+01  6.525979e+00   48.0   \n",
       "Value                     14100.0  2.754707e+06  7.901066e+06    0.0   \n",
       "Wage                      14100.0  8.230248e+03  2.056908e+04    0.0   \n",
       "Preferred Foot            14100.0  7.703546e-01  4.206197e-01    0.0   \n",
       "International Reputation  14100.0  1.105461e+00  4.067119e-01    1.0   \n",
       "Weak Foot                 14100.0  2.901348e+00  6.648317e-01    1.0   \n",
       "Skill Moves               14100.0  2.297660e+00  7.566394e-01    1.0   \n",
       "Height                    14100.0  1.808955e+02  6.957059e+00  149.0   \n",
       "Weight                    14100.0  7.428723e+01  6.980070e+00   48.0   \n",
       "Release Clause            14100.0  5.047875e+06  1.521871e+07    0.0   \n",
       "\n",
       "                               25%        50%        75%          max  \n",
       "Age                           20.0       22.0       26.0         54.0  \n",
       "Potential                     67.0       71.0       75.0         95.0  \n",
       "Value                     325000.0   700000.0  1800000.0  190500000.0  \n",
       "Wage                         550.0     2000.0     6000.0     450000.0  \n",
       "Preferred Foot                 1.0        1.0        1.0          1.0  \n",
       "International Reputation       1.0        1.0        1.0          5.0  \n",
       "Weak Foot                      3.0        3.0        3.0          5.0  \n",
       "Skill Moves                    2.0        2.0        3.0          5.0  \n",
       "Height                       176.0      180.0      186.0        206.0  \n",
       "Weight                        70.0       74.0       79.0        110.0  \n",
       "Release Clause            504000.0  1200000.0  3000000.0  366700000.0  "
      ]
     },
     "execution_count": 448,
     "metadata": {},
     "output_type": "execute_result"
    }
   ],
   "source": [
    "X_train.describe().T"
   ]
  },
  {
   "cell_type": "code",
   "execution_count": 449,
   "metadata": {},
   "outputs": [
    {
     "data": {
      "text/plain": [
       "count    14100.000000\n",
       "mean        63.378723\n",
       "std          8.045616\n",
       "min         44.000000\n",
       "25%         58.000000\n",
       "50%         63.000000\n",
       "75%         69.000000\n",
       "max         91.000000\n",
       "Name: Overall, dtype: float64"
      ]
     },
     "execution_count": 449,
     "metadata": {},
     "output_type": "execute_result"
    }
   ],
   "source": [
    "y_train.describe().T"
   ]
  },
  {
   "cell_type": "markdown",
   "metadata": {},
   "source": [
    "## Target variable analysis"
   ]
  },
  {
   "cell_type": "markdown",
   "metadata": {},
   "source": [
    "### Unique Values"
   ]
  },
  {
   "cell_type": "code",
   "execution_count": 452,
   "metadata": {},
   "outputs": [
    {
     "data": {
      "text/plain": [
       "array([63, 53, 71, 66, 52, 50, 59, 56, 62, 60, 72, 77, 57, 80, 67, 74, 54,\n",
       "       58, 61, 65, 78, 55, 73, 64, 70, 68, 79, 48, 75, 91, 46, 76, 69, 51,\n",
       "       49, 82, 81, 84, 83, 86, 85, 87, 47, 89, 88, 45, 90, 44])"
      ]
     },
     "execution_count": 452,
     "metadata": {},
     "output_type": "execute_result"
    }
   ],
   "source": [
    "y_train.unique()"
   ]
  },
  {
   "cell_type": "markdown",
   "metadata": {},
   "source": [
    "### Value Counts"
   ]
  },
  {
   "cell_type": "code",
   "execution_count": 454,
   "metadata": {},
   "outputs": [
    {
     "data": {
      "text/plain": [
       "Overall\n",
       "60    780\n",
       "63    742\n",
       "62    741\n",
       "64    735\n",
       "61    712\n",
       "65    613\n",
       "59    608\n",
       "58    584\n",
       "57    523\n",
       "67    520\n",
       "66    510\n",
       "68    480\n",
       "56    473\n",
       "55    469\n",
       "69    421\n",
       "53    420\n",
       "70    411\n",
       "54    411\n",
       "72    367\n",
       "52    344\n",
       "71    338\n",
       "75    335\n",
       "73    312\n",
       "50    275\n",
       "74    272\n",
       "51    268\n",
       "76    241\n",
       "77    167\n",
       "78    156\n",
       "79    147\n",
       "49    129\n",
       "80    111\n",
       "48     94\n",
       "81     92\n",
       "82     65\n",
       "84     55\n",
       "47     46\n",
       "83     34\n",
       "85     23\n",
       "86     20\n",
       "46     16\n",
       "87     11\n",
       "88     11\n",
       "89      6\n",
       "91      4\n",
       "90      4\n",
       "45      2\n",
       "44      2\n",
       "Name: count, dtype: int64"
      ]
     },
     "execution_count": 454,
     "metadata": {},
     "output_type": "execute_result"
    }
   ],
   "source": [
    "y_train.value_counts()"
   ]
  },
  {
   "cell_type": "markdown",
   "metadata": {},
   "source": [
    "### Basic Statistics"
   ]
  },
  {
   "cell_type": "code",
   "execution_count": 456,
   "metadata": {},
   "outputs": [
    {
     "name": "stdout",
     "output_type": "stream",
     "text": [
      "Mean: 63.37872340425532\n",
      "Median: 63.0\n",
      "Mode: 0    60\n",
      "Name: Overall, dtype: int64\n",
      "Standard Deviation: 8.045616175447247\n",
      "Variance: 64.73193964261839\n"
     ]
    }
   ],
   "source": [
    "print(f\"Mean: {y_train.mean()}\")\n",
    "print(f\"Median: {y_train.median()}\")\n",
    "print(f\"Mode: {y_train.mode()}\")\n",
    "print(f\"Standard Deviation: {y_train.std()}\")\n",
    "print(f\"Variance: {y_train.var()}\")"
   ]
  },
  {
   "cell_type": "markdown",
   "metadata": {},
   "source": [
    "### Distribution"
   ]
  },
  {
   "cell_type": "code",
   "execution_count": 466,
   "metadata": {},
   "outputs": [
    {
     "data": {
      "image/png": "[encoded data removed]",
      "text/plain": [
       "<Figure size 1400x700 with 1 Axes>"
      ]
     },
     "metadata": {},
     "output_type": "display_data"
    }
   ],
   "source": [
    "plt.figure(figsize=(14, 7))\n",
    "plt.hist(y_train, bins=48, edgecolor='black', color='skyblue')\n",
    "\n",
    "# Add titles and labels\n",
    "plt.title('Distribution of Target Variable (Player Ratings)', fontsize=14)\n",
    "plt.xlabel('Player Rating', fontsize=12)\n",
    "plt.ylabel('Frequency', fontsize=12)\n",
    "\n",
    "plt.grid(axis='y', linestyle='--', alpha=0.7)\n",
    "plt.show()"
   ]
  },
  {
   "cell_type": "markdown",
   "metadata": {},
   "source": [
    "## Features variables analysis"
   ]
  },
  {
   "cell_type": "markdown",
   "metadata": {},
   "source": [
    "### `Nationality`"
   ]
  },
  {
   "cell_type": "code",
   "execution_count": 484,
   "metadata": {},
   "outputs": [
    {
     "data": {
      "text/plain": [
       "array(['Norway', 'England', 'France', 'Ecuador', 'Korea Republic',\n",
       "       'Spain', 'Sweden', 'Germany', 'Bolivia', 'Netherlands', 'Uruguay',\n",
       "       'Mexico', 'Cape Verde Islands', 'Turkey', 'India',\n",
       "       'North Macedonia', 'Italy', 'Switzerland', 'Greece', 'Belgium',\n",
       "       'Slovakia', 'United States', 'Belarus', 'Republic of Ireland',\n",
       "       'Paraguay', 'Argentina', 'Brazil', 'Saudi Arabia', 'Russia',\n",
       "       'Scotland', 'Venezuela', 'Wales', 'Peru', 'Hungary', 'Portugal',\n",
       "       'Australia', 'Poland', 'Canada', 'Kosovo', 'Japan', 'China PR',\n",
       "       'Nigeria', 'Cameroon', 'Sierra Leone', 'Denmark', 'Algeria',\n",
       "       'Senegal', \"Côte d'Ivoire\", 'Romania', 'Armenia', 'Slovenia',\n",
       "       'Morocco', 'Luxembourg', 'Austria', 'Bosnia and Herzegovina',\n",
       "       'Mali', 'Bulgaria', 'Latvia', 'Colombia', 'Haiti', 'Liechtenstein',\n",
       "       'Albania', 'Madagascar', 'Gabon', 'Croatia', 'Czech Republic',\n",
       "       'Guinea Bissau', 'Finland', 'Serbia', 'New Zealand',\n",
       "       'South Africa', 'Northern Ireland', 'Iceland', 'Kenya', 'Togo',\n",
       "       'Chile', 'Tanzania', 'Guinea', 'Angola', 'Congo DR', 'Ukraine',\n",
       "       'Congo', 'Thailand', 'Equatorial Guinea', 'Qatar', 'Ghana',\n",
       "       'Honduras', 'South Sudan', 'Jamaica', 'Malta', 'Israel', 'Iraq',\n",
       "       'Burkina Faso', 'Georgia', 'Panama', 'Uganda', 'Cuba', 'Guyana',\n",
       "       'Gambia', 'Egypt', 'Liberia', 'Syria', 'Iran',\n",
       "       'Trinidad and Tobago', 'Montenegro', 'Kazakhstan', 'Uzbekistan',\n",
       "       'Benin', 'Zambia', 'Lithuania', 'Lebanon', 'Malaysia', 'Moldova',\n",
       "       'Mauritania', 'Palestine', 'Estonia', 'Zimbabwe', 'Tunisia',\n",
       "       'Libya', 'Burundi', 'Comoros', 'Hong Kong', 'Jordan',\n",
       "       'Puerto Rico', 'Cyprus', 'Suriname', 'Central African Republic',\n",
       "       'Saint Lucia', 'Costa Rica', 'Curacao', 'Afghanistan',\n",
       "       'Faroe Islands', 'Philippines', 'Grenada', 'Sudan',\n",
       "       'Papua New Guinea', 'United Arab Emirates', 'Namibia', 'Indonesia',\n",
       "       'Dominican Republic', 'Andorra', 'Antigua and Barbuda',\n",
       "       'El Salvador', 'Azerbaijan', 'Vietnam', 'Bhutan', 'Guatemala',\n",
       "       'Singapore', 'Montserrat', 'Malawi', 'Chinese Taipei',\n",
       "       'San Marino', 'Mozambique', 'Niger', 'New Caledonia'], dtype=object)"
      ]
     },
     "execution_count": 484,
     "metadata": {},
     "output_type": "execute_result"
    }
   ],
   "source": [
    "X_train['Nationality'].unique()"
   ]
  },
  {
   "cell_type": "code",
   "execution_count": 494,
   "metadata": {},
   "outputs": [
    {
     "data": {
      "text/plain": [
       "Nationality\n",
       "England                1217\n",
       "Germany                 842\n",
       "Spain                   787\n",
       "France                  675\n",
       "Argentina               671\n",
       "Brazil                  431\n",
       "Italy                   422\n",
       "Netherlands             379\n",
       "Uruguay                 330\n",
       "Japan                   302\n",
       "Ecuador                 288\n",
       "United States           281\n",
       "Venezuela               276\n",
       "Portugal                269\n",
       "China PR                265\n",
       "Poland                  262\n",
       "Sweden                  260\n",
       "Turkey                  255\n",
       "Republic of Ireland     246\n",
       "Norway                  239\n",
       "Name: count, dtype: int64"
      ]
     },
     "execution_count": 494,
     "metadata": {},
     "output_type": "execute_result"
    }
   ],
   "source": [
    "X_train['Nationality'].value_counts().head(20)"
   ]
  },
  {
   "cell_type": "code",
   "execution_count": 502,
   "metadata": {},
   "outputs": [
    {
     "data": {
      "image/png": "[encoded data removed]",
      "text/plain": [
       "<Figure size 800x500 with 1 Axes>"
      ]
     },
     "metadata": {},
     "output_type": "display_data"
    }
   ],
   "source": [
    "X['Nationality'].value_counts().head(10).plot(kind='bar', figsize=(8, 5))\n",
    "plt.title('Top 10 Nationalities')\n",
    "plt.ylabel('Number of Players')\n",
    "plt.show()"
   ]
  },
  {
   "cell_type": "markdown",
   "metadata": {},
   "source": [
    "England is the country that contributes the highest number of players."
   ]
  },
  {
   "cell_type": "markdown",
   "metadata": {},
   "source": [
    "### `Age`"
   ]
  },
  {
   "cell_type": "code",
   "execution_count": 508,
   "metadata": {},
   "outputs": [
    {
     "data": {
      "text/plain": [
       "array([22, 16, 35, 26, 23, 18, 21, 24, 20, 19, 25, 28, 27, 30, 32, 17, 33,\n",
       "       29, 31, 34, 36, 38, 37, 41, 39, 43, 44, 40, 15, 54, 42])"
      ]
     },
     "execution_count": 508,
     "metadata": {},
     "output_type": "execute_result"
    }
   ],
   "source": [
    "X_train['Age'].unique()"
   ]
  },
  {
   "cell_type": "code",
   "execution_count": 511,
   "metadata": {},
   "outputs": [
    {
     "data": {
      "text/plain": [
       "Age\n",
       "20    1563\n",
       "19    1531\n",
       "21    1474\n",
       "22    1327\n",
       "18    1171\n",
       "23    1012\n",
       "24     867\n",
       "25     748\n",
       "26     637\n",
       "27     573\n",
       "17     547\n",
       "28     478\n",
       "29     412\n",
       "30     386\n",
       "31     317\n",
       "32     251\n",
       "33     191\n",
       "34     156\n",
       "16     129\n",
       "35     124\n",
       "Name: count, dtype: int64"
      ]
     },
     "execution_count": 511,
     "metadata": {},
     "output_type": "execute_result"
    }
   ],
   "source": [
    "X_train['Age'].value_counts().head(20)"
   ]
  },
  {
   "cell_type": "code",
   "execution_count": 523,
   "metadata": {},
   "outputs": [
    {
     "data": {
      "image/png": "[encoded data removed]",
      "text/plain": [
       "<Figure size 800x600 with 1 Axes>"
      ]
     },
     "metadata": {},
     "output_type": "display_data"
    }
   ],
   "source": [
    "# Age bins and labels\n",
    "age_bins = [0, 20, 23, 28, 32, 100]  # Include a wide range for upper limit\n",
    "labels = ['<20', '20-23', '24-28', '29-32', '33+']\n",
    "\n",
    "# Counting occurrences of each group\n",
    "age_group_counts = pd.cut(df['Age'], bins=age_bins, labels=labels).value_counts()\n",
    "\n",
    "# Pie chart\n",
    "plt.figure(figsize=(8, 6))\n",
    "plt.pie(age_group_counts, labels=age_group_counts.index, autopct='%1.1f%%', \n",
    "        colors=sns.color_palette(\"deep\", len(labels)), startangle=90)\n",
    "\n",
    "plt.title('Age Group Distribution')\n",
    "plt.show()"
   ]
  },
  {
   "cell_type": "markdown",
   "metadata": {},
   "source": [
    "The dataset predominantly consists of young players."
   ]
  },
  {
   "cell_type": "markdown",
   "metadata": {},
   "source": [
    "#### Let’s examine how **`Age`** affects player ratings:"
   ]
  },
  {
   "cell_type": "code",
   "execution_count": 527,
   "metadata": {},
   "outputs": [
    {
     "data": {
      "image/png": "[encoded data removed]",
      "text/plain": [
       "<Figure size 1200x600 with 1 Axes>"
      ]
     },
     "metadata": {},
     "output_type": "display_data"
    }
   ],
   "source": [
    "data_train = X_train.copy()\n",
    "data_train['Overall'] = y_train  \n",
    "\n",
    "# Filter for players under 41 years old\n",
    "filtered_dataset = data_train[data_train['Age'] < 41]\n",
    "\n",
    "# Group by Age and calculate the mean Overall Rating\n",
    "age_rating = filtered_dataset.groupby('Age')['Overall'].mean().reset_index()\n",
    "\n",
    "# Plot the relationship between Age and Overall Rating\n",
    "plt.figure(figsize=(12, 6))\n",
    "plt.plot(age_rating['Age'], age_rating['Overall'], marker='o', color='blue')\n",
    "plt.title('Influence of Age on Overall Rating', fontsize=14)\n",
    "plt.xlabel('Age', fontsize=12)\n",
    "plt.ylabel('Average Overall Rating', fontsize=12)\n",
    "plt.grid(alpha=0.5)\n",
    "plt.show()"
   ]
  },
  {
   "cell_type": "markdown",
   "metadata": {},
   "source": [
    "Better ratings at later stages in career."
   ]
  },
  {
   "cell_type": "markdown",
   "metadata": {},
   "source": [
    "### `Body Type`"
   ]
  },
  {
   "cell_type": "code",
   "execution_count": 531,
   "metadata": {},
   "outputs": [
    {
     "data": {
      "text/plain": [
       "array(['Lean', 'Normal', 'Stocky', 'Unique'], dtype=object)"
      ]
     },
     "execution_count": 531,
     "metadata": {},
     "output_type": "execute_result"
    }
   ],
   "source": [
    "X_train['Body Type'].unique()"
   ]
  },
  {
   "cell_type": "code",
   "execution_count": 533,
   "metadata": {},
   "outputs": [
    {
     "data": {
      "text/plain": [
       "Body Type\n",
       "Normal    8302\n",
       "Lean      5075\n",
       "Stocky     620\n",
       "Unique     103\n",
       "Name: count, dtype: int64"
      ]
     },
     "execution_count": 533,
     "metadata": {},
     "output_type": "execute_result"
    }
   ],
   "source": [
    "X_train['Body Type'].value_counts()"
   ]
  },
  {
   "cell_type": "code",
   "execution_count": 535,
   "metadata": {},
   "outputs": [
    {
     "name": "stdout",
     "output_type": "stream",
     "text": [
      "                   Name  Height  Weight\n",
      "0           L. Goretzka     189      82\n",
      "1       Bruno Fernandes     179      69\n",
      "3          K. De Bruyne     181      70\n",
      "9          João Cancelo     182      74\n",
      "17           F. de Jong     180      74\n",
      "18         A. Griezmann     176      73\n",
      "21  T. Alexander-Arnold     180      69\n",
      "22            L. Suárez     182      86\n",
      "25             M. Salah     175      71\n",
      "26            S. Tonali     181      79\n",
      "29           Jordi Alba     170      68\n",
      "34          Alex Telles     181      71\n",
      "37             Casemiro     185      84\n",
      "40             L. Digne     178      74\n",
      "41       R. Lewandowski     185      81\n",
      "42          22 A. Vidal     180      75\n",
      "45            K. Walker     183      83\n",
      "46         T. Hernández     184      81\n",
      "50         G. Wijnaldum     175      74\n",
      "52              H. Kane     188      89\n",
      "56             L. Messi     169      67\n",
      "57          M. Verratti     165      60\n",
      "59          F. Valverde     182      78\n",
      "60              S. Mané     174      69\n",
      "75            K. Mbappé     182      73\n"
     ]
    }
   ],
   "source": [
    "# Filter players with Body Type 'Unique'\n",
    "unique_body = df[df['Body Type'] == 'Unique'][['Name', 'Height', 'Weight']]\n",
    "\n",
    "print(unique_body.head(25))"
   ]
  },
  {
   "cell_type": "code",
   "execution_count": 542,
   "metadata": {},
   "outputs": [
    {
     "data": {
      "image/png": "[encoded data removed]",
      "text/plain": [
       "<Figure size 1200x600 with 1 Axes>"
      ]
     },
     "metadata": {},
     "output_type": "display_data"
    }
   ],
   "source": [
    "body_type_counts = df['Body Type'].value_counts()\n",
    "\n",
    "# Plot\n",
    "plt.figure(figsize=(12, 6))\n",
    "sns.barplot(x=body_type_counts.index, y=body_type_counts.values, palette='deep')\n",
    "plt.title('Distribution of Players by Body Type', fontsize=14)\n",
    "plt.xlabel('Body Type', fontsize=12)\n",
    "plt.ylabel('Number of Players', fontsize=12)\n",
    "plt.xticks(rotation=45)  # Rotate labels if needed\n",
    "plt.show()"
   ]
  },
  {
   "cell_type": "markdown",
   "metadata": {},
   "source": [
    "The majority of players have a **Normal** or **Lean** body type. Players classified as having a **Unique** body type don’t fit neatly into the standard categories, making them distinct in their physical attributes."
   ]
  },
  {
   "cell_type": "markdown",
   "metadata": {},
   "source": [
    "### `Position`"
   ]
  },
  {
   "cell_type": "code",
   "execution_count": 362,
   "metadata": {},
   "outputs": [
    {
     "data": {
      "text/plain": [
       "['RW',\n",
       " 'RES',\n",
       " 'SUB',\n",
       " 'LDM',\n",
       " 'RB',\n",
       " 'LCB',\n",
       " 'RWB',\n",
       " 'LCM',\n",
       " 'RM',\n",
       " 'CAM',\n",
       " 'GK',\n",
       " 'RCB',\n",
       " 'LS',\n",
       " 'ST',\n",
       " 'LM',\n",
       " 'LB',\n",
       " 'RS',\n",
       " 'RDM',\n",
       " 'CB',\n",
       " 'LW',\n",
       " 'RCM',\n",
       " 'CDM',\n",
       " 'LWB',\n",
       " 'LAM',\n",
       " 'RAM',\n",
       " 'LF',\n",
       " 'CM',\n",
       " 'RF',\n",
       " 'CF']"
      ]
     },
     "execution_count": 362,
     "metadata": {},
     "output_type": "execute_result"
    }
   ],
   "source": [
    "X_train['Position'].unique().tolist()"
   ]
  },
  {
   "cell_type": "code",
   "execution_count": 364,
   "metadata": {},
   "outputs": [
    {
     "data": {
      "text/plain": [
       "Position\n",
       "SUB    5933\n",
       "RES    4175\n",
       "RCB     361\n",
       "GK      312\n",
       "LCB     309\n",
       "ST      285\n",
       "LB      266\n",
       "RB      261\n",
       "LCM     256\n",
       "RCM     247\n",
       "LM      227\n",
       "RM      226\n",
       "CAM     155\n",
       "LS      134\n",
       "CDM     121\n",
       "RS      117\n",
       "RW      116\n",
       "LW      114\n",
       "RDM     106\n",
       "CB       89\n",
       "LDM      86\n",
       "RWB      66\n",
       "LWB      61\n",
       "LF       23\n",
       "CM       22\n",
       "RF       14\n",
       "CF        9\n",
       "LAM       7\n",
       "RAM       2\n",
       "Name: count, dtype: int64"
      ]
     },
     "execution_count": 364,
     "metadata": {},
     "output_type": "execute_result"
    }
   ],
   "source": [
    "X_train['Position'].value_counts()"
   ]
  },
  {
   "cell_type": "code",
   "execution_count": 544,
   "metadata": {},
   "outputs": [
    {
     "data": {
      "image/png": "[encoded data removed]",
      "text/plain": [
       "<Figure size 1200x600 with 1 Axes>"
      ]
     },
     "metadata": {},
     "output_type": "display_data"
    }
   ],
   "source": [
    "# Lets visualise the relationship between Average Ranking and Position \n",
    "position_overall = df.groupby('Position')['Overall'].mean().sort_values(ascending=False)\n",
    "\n",
    "# Plotting the results\n",
    "plt.figure(figsize=(12, 6))\n",
    "position_overall.plot(kind='bar')\n",
    "plt.xlabel('Preferred Position')\n",
    "plt.ylabel('Average Overall Rating')\n",
    "plt.title('Average Overall Rating by Preferred Position')\n",
    "plt.xticks(rotation=45)\n",
    "plt.grid(axis='y', linestyle='--', alpha=0.7)\n",
    "plt.show()\n"
   ]
  },
  {
   "cell_type": "markdown",
   "metadata": {},
   "source": [
    "The bar plot reveals that **Center Forwards (CF)** and **Right Attacking Midfielders (RAM)** tend to have higher average ratings compared to other positions. As expected, substitutes and reserves rank lower on average. \n",
    "\n",
    "Interestingly, as we move from attacking positions to defensive roles, there’s a slight but consistent decrease in average ratings—except for **goalkeepers (GK)**, who surprisingly rank quite high."
   ]
  },
  {
   "cell_type": "markdown",
   "metadata": {},
   "source": [
    "### `Preferred Foot`"
   ]
  },
  {
   "cell_type": "code",
   "execution_count": 548,
   "metadata": {},
   "outputs": [
    {
     "data": {
      "text/plain": [
       "Preferred Foot\n",
       "1    10862\n",
       "0     3238\n",
       "Name: count, dtype: int64"
      ]
     },
     "execution_count": 548,
     "metadata": {},
     "output_type": "execute_result"
    }
   ],
   "source": [
    "X_train['Preferred Foot'].value_counts()"
   ]
  },
  {
   "cell_type": "code",
   "execution_count": 550,
   "metadata": {},
   "outputs": [
    {
     "data": {
      "image/png": "[encoded data removed]",
      "text/plain": [
       "<Figure size 1200x800 with 1 Axes>"
      ]
     },
     "metadata": {},
     "output_type": "display_data"
    }
   ],
   "source": [
    "# percentage distribution in terms of foot preference\n",
    "preferred_foot_percentage = df['Preferred Foot'].value_counts(normalize=True) * 100\n",
    "\n",
    "# Bar plot\n",
    "plt.figure(figsize=(12, 8))\n",
    "sns.barplot(x=preferred_foot_percentage.index, \n",
    "            y=preferred_foot_percentage.values, \n",
    "            palette='viridis')\n",
    "\n",
    "plt.title('Preferred Foot Distribution (Percentage)')\n",
    "plt.xlabel('Preferred Foot')\n",
    "plt.ylabel('Percentage of Players')\n",
    "\n",
    "plt.show()"
   ]
  },
  {
   "cell_type": "markdown",
   "metadata": {},
   "source": [
    "As expected, there are significantly more right-footed players than left-footed ones."
   ]
  },
  {
   "cell_type": "code",
   "execution_count": 575,
   "metadata": {},
   "outputs": [
    {
     "data": {
      "image/png": "[encoded data removed]",
      "text/plain": [
       "<Figure size 1200x600 with 1 Axes>"
      ]
     },
     "metadata": {},
     "output_type": "display_data"
    }
   ],
   "source": [
    "# Calculate the average Overall rating for each Preferred Foot category\n",
    "preferred_foot_avg = df.groupby('Preferred Foot')['Overall'].mean()\n",
    "\n",
    "# Plot the results as a histogram\n",
    "plt.figure(figsize=(12, 6))\n",
    "plt.bar(preferred_foot_avg.index, preferred_foot_avg.values, \n",
    "        color=['darkblue', 'darkgreen'], edgecolor='black')\n",
    "\n",
    "# Add titles and labels\n",
    "plt.title('Average Overall Rating by Preferred Foot', fontsize=12)\n",
    "plt.ylabel('Average Overall Rating', fontsize=10)\n",
    "plt.xticks([0, 1], ['Left Foot', 'Right Foot'])\n",
    "plt.show()"
   ]
  },
  {
   "cell_type": "markdown",
   "metadata": {},
   "source": [
    "The plot reveals a **very minimal advantage** for left-footed players in terms of average overall ratings. However, the difference is so slight that it is almost unnoticeable. This suggests that **Preferred Foot** might not be a very significant feature in predicting player ratings."
   ]
  },
  {
   "cell_type": "code",
   "execution_count": 34,
   "metadata": {},
   "outputs": [
    {
     "data": {
      "image/png": "[encoded data removed]",
      "text/plain": [
       "<Figure size 1400x800 with 1 Axes>"
      ]
     },
     "metadata": {},
     "output_type": "display_data"
    }
   ],
   "source": [
    "# Lets see if Nationality affects on what you would earn as a footballer :)\n",
    "top_nationalities =df['Nationality'].value_counts().head(10).index # Top 10\n",
    "df_top_nationalities = df[df['Nationality'].isin(top_nationalities)]\n",
    "\n",
    "# Box plot\n",
    "plt.figure(figsize=(14, 8))\n",
    "sns.boxplot(data=df_top_nationalities, x='Nationality', y='Wage', palette='Blues')\n",
    "\n",
    "plt.title('Distribution of Wages by Nationality (Top 10)', fontsize=16)\n",
    "plt.xlabel('Nationality', fontsize=14)\n",
    "plt.ylabel('Wage (in €)', fontsize=14)\n",
    "plt.xticks(rotation=45, fontsize=12)\n",
    "\n",
    "plt.grid(axis='y', linestyle='--', alpha=0.7)\n",
    "plt.show()\n"
   ]
  },
  {
   "cell_type": "code",
   "execution_count": 193,
   "metadata": {},
   "outputs": [
    {
     "data": {
      "text/plain": [
       "['RW', 'RES', 'SUB', 'LDM', 'RB', ..., 'RAM', 'LF', 'CM', 'RF', 'CF']\n",
       "Length: 29\n",
       "Categories (29, object): ['CAM', 'CB', 'CDM', 'CF', ..., 'RW', 'RWB', 'ST', 'SUB']"
      ]
     },
     "execution_count": 193,
     "metadata": {},
     "output_type": "execute_result"
    }
   ],
   "source": [
    "X_train['Position'].unique()"
   ]
  },
  {
   "cell_type": "markdown",
   "metadata": {},
   "source": [
    "Based on the box plot, most nationalities exhibit their median wages in the lower range, indicating that the majority of players earn relatively modest wages. However, outliers with exceptionally high wages are visible across many nationalities, especially for Brazil, Argentina, and England, which may reflect the presence of globally renowned players with extraordinary earnings. In contrast, countries like Japan and Uruguay display a much smaller range of wages, highlighting less variability among players from these nations. Meanwhile, nationalities such as Spain and France demonstrate a consistent and balanced wage distribution, with fewer extreme outliers compared to other countries."
   ]
  },
  {
   "cell_type": "code",
   "execution_count": 35,
   "metadata": {},
   "outputs": [
    {
     "data": {
      "image/png": "[encoded data removed]",
      "text/plain": [
       "<Figure size 1600x1000 with 1 Axes>"
      ]
     },
     "metadata": {},
     "output_type": "display_data"
    }
   ],
   "source": [
    "# Number of instances\n",
    "position_nationality_counts = df_top_nationalities.groupby(['Nationality', 'Position']).size().reset_index(name='Count')\n",
    "\n",
    "# Plot\n",
    "plt.figure(figsize=(16, 10))\n",
    "sns.barplot(data=position_nationality_counts, x='Nationality', y='Count', hue='Position', palette='viridis')\n",
    "\n",
    "# Add titles and labels\n",
    "plt.title('Distribution of Players by Nationality and Position', fontsize=16)\n",
    "plt.xlabel('Nationality', fontsize=14)\n",
    "plt.ylabel('Count', fontsize=14)\n",
    "plt.xticks(rotation=45, ha='right', fontsize=12)\n",
    "plt.legend(title='Position', bbox_to_anchor=(1.05, 1), loc='upper left')\n",
    "plt.tight_layout()\n",
    "plt.show()"
   ]
  },
  {
   "cell_type": "code",
   "execution_count": 36,
   "metadata": {},
   "outputs": [
    {
     "data": {
      "image/png": "[encoded data removed]",
      "text/plain": [
       "<Figure size 1400x800 with 1 Axes>"
      ]
     },
     "metadata": {},
     "output_type": "display_data"
    }
   ],
   "source": [
    "plt.figure(figsize=(14, 8))\n",
    "sns.violinplot(data=df, x='Age', y='Wage', palette='pastel')\n",
    "plt.title('Wage Distribution by Age', fontsize=16)\n",
    "plt.xlabel('Age', fontsize=14)\n",
    "plt.ylabel('Wage (in €)', fontsize=14)\n",
    "plt.grid(axis='y', linestyle='--', alpha=0.7)\n",
    "plt.show()\n"
   ]
  },
  {
   "cell_type": "markdown",
   "metadata": {},
   "source": [
    "The Violin Plot above illustrates that wages tend to peak during prime ages, particularly in the 25 to 30-year-old range, where the distribution of wages is the widest. This indicates that players in this age group are more likely to command extremely high wages, with some exceeding €300,000. As players age beyond 30, the wage distributions become narrower, reflecting a decline in the number of players earning exceptionally high wages. While outliers still exist among older players (e.g., some earning over €100,000), the majority tend to earn relatively lower wages as they approach the later stages of their careers."
   ]
  },
  {
   "cell_type": "markdown",
   "metadata": {},
   "source": [
    "Turns out left footers are more rare compared to right footers"
   ]
  },
  {
   "cell_type": "code",
   "execution_count": 38,
   "metadata": {},
   "outputs": [
    {
     "data": {
      "image/png": "[encoded data removed]",
      "text/plain": [
       "<Figure size 1400x800 with 1 Axes>"
      ]
     },
     "metadata": {},
     "output_type": "display_data"
    }
   ],
   "source": [
    "# Grouping by Position and Preferred Foot\n",
    "dft = df.groupby(\"Position\")[\"Preferred Foot\"].value_counts().reset_index(name='Count')\n",
    "\n",
    "# figure size\n",
    "plt.figure(figsize=(14, 8))\n",
    "\n",
    "# bar plot\n",
    "p = sns.barplot(x='Position', y='Count', data=dft, hue='Preferred Foot', palette='coolwarm')\n",
    "\n",
    "p.set_title('Preferred Foot Distribution Across Player Positions', fontsize=16, pad=20)\n",
    "p.set_xlabel('Player Position', fontsize=14)\n",
    "p.set_ylabel('Count', fontsize=14)\n",
    "\n",
    "plt.xticks(rotation=45, fontsize=10)\n",
    "\n",
    "p.legend(title='Preferred Foot', loc='upper right', fontsize=12)\n",
    "\n",
    "# displaying the plot\n",
    "plt.tight_layout()\n",
    "plt.show()\n"
   ]
  },
  {
   "cell_type": "markdown",
   "metadata": {},
   "source": [
    "Therefore, it should be no surprise that right footers dominate practically at all positions. "
   ]
  },
  {
   "cell_type": "markdown",
   "metadata": {},
   "source": [
    "# Statistical Analysis"
   ]
  },
  {
   "cell_type": "markdown",
   "metadata": {},
   "source": [
    "### Basic Statistics"
   ]
  },
  {
   "cell_type": "code",
   "execution_count": 39,
   "metadata": {},
   "outputs": [
    {
     "name": "stdout",
     "output_type": "stream",
     "text": [
      "            Age   Overall  Potential          Value       Wage  \\\n",
      "count 17,625.00 17,625.00  17,625.00      17,625.00  17,625.00   \n",
      "mean      23.12     63.37      70.98   2,745,215.49   8,205.96   \n",
      "std        4.63      8.04       6.53   7,848,110.94  20,493.84   \n",
      "min       15.00     43.00      42.00           0.00       0.00   \n",
      "25%       20.00     58.00      67.00     325,000.00     550.00   \n",
      "50%       22.00     63.00      71.00     700,000.00   2,000.00   \n",
      "75%       26.00     69.00      75.00   1,800,000.00   6,000.00   \n",
      "max       54.00     91.00      95.00 190,500,000.00 450,000.00   \n",
      "\n",
      "       Preferred Foot  International Reputation  Weak Foot  Skill Moves  \\\n",
      "count       17,625.00                 17,625.00  17,625.00    17,625.00   \n",
      "mean             0.77                      1.11       2.90         2.30   \n",
      "std              0.42                      0.40       0.66         0.75   \n",
      "min              0.00                      1.00       1.00         1.00   \n",
      "25%              1.00                      1.00       3.00         2.00   \n",
      "50%              1.00                      1.00       3.00         2.00   \n",
      "75%              1.00                      1.00       3.00         3.00   \n",
      "max              1.00                      5.00       5.00         5.00   \n",
      "\n",
      "         Height    Weight  Release Clause  \n",
      "count 17,625.00 17,625.00       17,625.00  \n",
      "mean     180.89     74.33    5,035,826.50  \n",
      "std        6.96      6.98   15,108,403.82  \n",
      "min      149.00     48.00            0.00  \n",
      "25%      176.00     70.00      500,000.00  \n",
      "50%      181.00     74.00    1,200,000.00  \n",
      "75%      186.00     79.00    3,100,000.00  \n",
      "max      206.00    110.00  366,700,000.00  \n"
     ]
    }
   ],
   "source": [
    "# Setting format to avoid scientific notation\n",
    "pd.options.display.float_format = '{:,.2f}'.format\n",
    "\n",
    "# Summary statistics\n",
    "print(df.describe())\n"
   ]
  },
  {
   "cell_type": "markdown",
   "metadata": {},
   "source": [
    "## Chi-square Test"
   ]
  },
  {
   "cell_type": "code",
   "execution_count": 40,
   "metadata": {},
   "outputs": [
    {
     "name": "stdout",
     "output_type": "stream",
     "text": [
      "Chi-Square Test for Club: p-value = 0.0\n",
      "Chi-Square Test for Position: p-value = 0.0\n",
      "Chi-Square Test for Loaned From: p-value = 1.0\n"
     ]
    }
   ],
   "source": [
    "# list categorical variables\n",
    "categorical_columns = X_train.select_dtypes(include=['category']).columns\n",
    "\n",
    "# Chi-Square test\n",
    "for column in categorical_columns:\n",
    "    crosstab = pd.crosstab(X_train[column], y_train)\n",
    "    chi2, p, dof, expected = chi2_contingency(crosstab)\n",
    "    print(f\"Chi-Square Test for {column}: p-value = {p}\")"
   ]
  },
  {
   "cell_type": "markdown",
   "metadata": {},
   "source": [
    "It is clearly seen that the p-value for Name is very high, indicating no significant association between the Name variable and the dependent variable. Club and Best Position, on the contrary, have low p-value. Thus, we will remove the Name column as well"
   ]
  },
  {
   "cell_type": "markdown",
   "metadata": {},
   "source": [
    "## Point-Biserial Correlation"
   ]
  },
  {
   "cell_type": "code",
   "execution_count": 41,
   "metadata": {},
   "outputs": [
    {
     "name": "stdout",
     "output_type": "stream",
     "text": [
      "Correlation between Age and y: 0.5962228970249466, p-value: 0.0\n",
      "Correlation between Potential and y: 0.7065234567438479, p-value: 0.0\n",
      "Correlation between Value and y: 0.5634395225568458, p-value: 0.0\n",
      "Correlation between Wage and y: 0.5997895156763592, p-value: 0.0\n",
      "Correlation between Preferred Foot and y: -0.07119002484204912, p-value: 2.5983417890279673e-17\n",
      "Correlation between International Reputation and y: 0.4811669564597424, p-value: 0.0\n",
      "Correlation between Weak Foot and y: 0.2621061038413658, p-value: 3.3293100032155525e-220\n",
      "Correlation between Skill Moves and y: 0.4397730120917164, p-value: 0.0\n",
      "Correlation between Height and y: 0.059776169183491386, p-value: 1.214164433979041e-12\n",
      "Correlation between Weight and y: 0.16130784477905874, p-value: 8.073910650889751e-83\n",
      "Correlation between Release Clause and y: 0.5380636437314801, p-value: 0.0\n"
     ]
    }
   ],
   "source": [
    "# list of numerical variables\n",
    "numerical_columns = X_train.select_dtypes(include=['int', 'float']).columns\n",
    "\n",
    "# point-biserial correlation\n",
    "for column in numerical_columns:\n",
    "    correlation, p_value = pointbiserialr(X_train[column], y_train)\n",
    "    print(f\"Correlation between {column} and y: {correlation}, p-value: {p_value}\")"
   ]
  },
  {
   "cell_type": "markdown",
   "metadata": {},
   "source": [
    "### Correlation plot"
   ]
  },
  {
   "cell_type": "code",
   "execution_count": 42,
   "metadata": {},
   "outputs": [
    {
     "data": {
      "image/png": "[encoded data removed]",
      "text/plain": [
       "<Figure size 800x1000 with 2 Axes>"
      ]
     },
     "metadata": {},
     "output_type": "display_data"
    }
   ],
   "source": [
    "# choosing numerical features\n",
    "numerical_features = data_train.select_dtypes(include=['int64', 'float64'])\n",
    "\n",
    "# correlation matrix\n",
    "correlation_matrix = numerical_features.corr()\n",
    "\n",
    "# correlations of numerical features with the 'Overall'target\n",
    "correlation_with_target = correlation_matrix[['Overall']].drop('Overall')\n",
    "\n",
    "# Plot\n",
    "plt.figure(figsize=(8, 10))\n",
    "sns.heatmap(correlation_with_target, annot=True, cmap='coolwarm', cbar=True, fmt='.2f', linewidths=0.5)\n",
    "plt.title('Correlation of Numerical Features with Overall', fontsize=16)\n",
    "plt.xlabel('Overall', fontsize=14)\n",
    "plt.ylabel('Numerical Features', fontsize=14)\n",
    "plt.tight_layout()\n",
    "plt.show()"
   ]
  },
  {
   "cell_type": "markdown",
   "metadata": {},
   "source": [
    "## Final Decision"
   ]
  },
  {
   "cell_type": "markdown",
   "metadata": {},
   "source": [
    "The p-value for Preferred Foot is very low, but its weak correlation coefficient indicates a negligible relationship with the dependent variable. On the other hand, features like Potential, Wage, Age, and Value show strong correlations with the dependent variable and have extremely low p-values. Thus, we will prioritize these strongly correlated features in the analysis and consider dropping features with weak or negligible relationships, such as Preferred Foot. Further correlation analysis will be performed tohether with Feature Engineering"
   ]
  },
  {
   "cell_type": "code",
   "execution_count": 43,
   "metadata": {},
   "outputs": [],
   "source": [
    "X_train= X_train.drop(columns=['Preferred Foot'])\n",
    "X_test= X_test.drop(columns=['Preferred Foot'])"
   ]
  },
  {
   "cell_type": "code",
   "execution_count": 44,
   "metadata": {},
   "outputs": [
    {
     "data": {
      "text/html": [
       "<div>\n",
       "<style scoped>\n",
       "    .dataframe tbody tr th:only-of-type {\n",
       "        vertical-align: middle;\n",
       "    }\n",
       "\n",
       "    .dataframe tbody tr th {\n",
       "        vertical-align: top;\n",
       "    }\n",
       "\n",
       "    .dataframe thead th {\n",
       "        text-align: right;\n",
       "    }\n",
       "</style>\n",
       "<table border=\"1\" class=\"dataframe\">\n",
       "  <thead>\n",
       "    <tr style=\"text-align: right;\">\n",
       "      <th></th>\n",
       "      <th>Name</th>\n",
       "      <th>Age</th>\n",
       "      <th>Nationality</th>\n",
       "      <th>Potential</th>\n",
       "      <th>Club</th>\n",
       "      <th>Value</th>\n",
       "      <th>Wage</th>\n",
       "      <th>International Reputation</th>\n",
       "      <th>Weak Foot</th>\n",
       "      <th>Skill Moves</th>\n",
       "      <th>Work Rate</th>\n",
       "      <th>Body Type</th>\n",
       "      <th>Position</th>\n",
       "      <th>Loaned From</th>\n",
       "      <th>Height</th>\n",
       "      <th>Weight</th>\n",
       "      <th>Release Clause</th>\n",
       "    </tr>\n",
       "  </thead>\n",
       "  <tbody>\n",
       "    <tr>\n",
       "      <th>6023</th>\n",
       "      <td>H. Stenevik</td>\n",
       "      <td>22</td>\n",
       "      <td>Norway</td>\n",
       "      <td>74</td>\n",
       "      <td>Strømsgodset IF</td>\n",
       "      <td>1,100,000.00</td>\n",
       "      <td>1,000.00</td>\n",
       "      <td>1.00</td>\n",
       "      <td>3.00</td>\n",
       "      <td>4.00</td>\n",
       "      <td>Medium/ High</td>\n",
       "      <td>Lean</td>\n",
       "      <td>RW</td>\n",
       "      <td>Permanent</td>\n",
       "      <td>185</td>\n",
       "      <td>70</td>\n",
       "      <td>1,600,000.00</td>\n",
       "    </tr>\n",
       "    <tr>\n",
       "      <th>17163</th>\n",
       "      <td>22 T. Wooster</td>\n",
       "      <td>16</td>\n",
       "      <td>England</td>\n",
       "      <td>73</td>\n",
       "      <td>Manchester United</td>\n",
       "      <td>230,000.00</td>\n",
       "      <td>500.00</td>\n",
       "      <td>1.00</td>\n",
       "      <td>3.00</td>\n",
       "      <td>1.00</td>\n",
       "      <td>Medium/ Medium</td>\n",
       "      <td>Lean</td>\n",
       "      <td>RES</td>\n",
       "      <td>Permanent</td>\n",
       "      <td>195</td>\n",
       "      <td>85</td>\n",
       "      <td>656,000.00</td>\n",
       "    </tr>\n",
       "    <tr>\n",
       "      <th>1750</th>\n",
       "      <td>14 J. Rothen</td>\n",
       "      <td>35</td>\n",
       "      <td>France</td>\n",
       "      <td>71</td>\n",
       "      <td>Stade Malherbe Caen</td>\n",
       "      <td>325,000.00</td>\n",
       "      <td>15,000.00</td>\n",
       "      <td>2.00</td>\n",
       "      <td>2.00</td>\n",
       "      <td>3.00</td>\n",
       "      <td>Medium/ Medium</td>\n",
       "      <td>Normal</td>\n",
       "      <td>SUB</td>\n",
       "      <td>Permanent</td>\n",
       "      <td>177</td>\n",
       "      <td>74</td>\n",
       "      <td>0.00</td>\n",
       "    </tr>\n",
       "    <tr>\n",
       "      <th>2661</th>\n",
       "      <td>22 D. Noboa</td>\n",
       "      <td>26</td>\n",
       "      <td>Ecuador</td>\n",
       "      <td>70</td>\n",
       "      <td>Guayaquil City FC</td>\n",
       "      <td>1,100,000.00</td>\n",
       "      <td>500.00</td>\n",
       "      <td>1.00</td>\n",
       "      <td>3.00</td>\n",
       "      <td>2.00</td>\n",
       "      <td>Medium/ High</td>\n",
       "      <td>Normal</td>\n",
       "      <td>LDM</td>\n",
       "      <td>Permanent</td>\n",
       "      <td>183</td>\n",
       "      <td>79</td>\n",
       "      <td>2,400,000.00</td>\n",
       "    </tr>\n",
       "    <tr>\n",
       "      <th>13361</th>\n",
       "      <td>22 Baek Seung Woo</td>\n",
       "      <td>22</td>\n",
       "      <td>Korea Republic</td>\n",
       "      <td>62</td>\n",
       "      <td>Jeju United FC</td>\n",
       "      <td>180,000.00</td>\n",
       "      <td>1,000.00</td>\n",
       "      <td>1.00</td>\n",
       "      <td>3.00</td>\n",
       "      <td>2.00</td>\n",
       "      <td>Medium/ Medium</td>\n",
       "      <td>Normal</td>\n",
       "      <td>SUB</td>\n",
       "      <td>Permanent</td>\n",
       "      <td>170</td>\n",
       "      <td>65</td>\n",
       "      <td>261,000.00</td>\n",
       "    </tr>\n",
       "  </tbody>\n",
       "</table>\n",
       "</div>"
      ],
      "text/plain": [
       "                    Name  Age     Nationality  Potential                 Club  \\\n",
       "6023         H. Stenevik   22          Norway         74      Strømsgodset IF   \n",
       "17163      22 T. Wooster   16         England         73    Manchester United   \n",
       "1750        14 J. Rothen   35          France         71  Stade Malherbe Caen   \n",
       "2661         22 D. Noboa   26         Ecuador         70    Guayaquil City FC   \n",
       "13361  22 Baek Seung Woo   22  Korea Republic         62       Jeju United FC   \n",
       "\n",
       "             Value      Wage  International Reputation  Weak Foot  \\\n",
       "6023  1,100,000.00  1,000.00                      1.00       3.00   \n",
       "17163   230,000.00    500.00                      1.00       3.00   \n",
       "1750    325,000.00 15,000.00                      2.00       2.00   \n",
       "2661  1,100,000.00    500.00                      1.00       3.00   \n",
       "13361   180,000.00  1,000.00                      1.00       3.00   \n",
       "\n",
       "       Skill Moves       Work Rate Body Type Position Loaned From  Height  \\\n",
       "6023          4.00    Medium/ High      Lean       RW   Permanent     185   \n",
       "17163         1.00  Medium/ Medium      Lean      RES   Permanent     195   \n",
       "1750          3.00  Medium/ Medium    Normal      SUB   Permanent     177   \n",
       "2661          2.00    Medium/ High    Normal      LDM   Permanent     183   \n",
       "13361         2.00  Medium/ Medium    Normal      SUB   Permanent     170   \n",
       "\n",
       "       Weight  Release Clause  \n",
       "6023       70    1,600,000.00  \n",
       "17163      85      656,000.00  \n",
       "1750       74            0.00  \n",
       "2661       79    2,400,000.00  \n",
       "13361      65      261,000.00  "
      ]
     },
     "execution_count": 44,
     "metadata": {},
     "output_type": "execute_result"
    }
   ],
   "source": [
    "X_train.head()"
   ]
  },
  {
   "cell_type": "code",
   "execution_count": 45,
   "metadata": {},
   "outputs": [
    {
     "data": {
      "text/html": [
       "<div>\n",
       "<style scoped>\n",
       "    .dataframe tbody tr th:only-of-type {\n",
       "        vertical-align: middle;\n",
       "    }\n",
       "\n",
       "    .dataframe tbody tr th {\n",
       "        vertical-align: top;\n",
       "    }\n",
       "\n",
       "    .dataframe thead th {\n",
       "        text-align: right;\n",
       "    }\n",
       "</style>\n",
       "<table border=\"1\" class=\"dataframe\">\n",
       "  <thead>\n",
       "    <tr style=\"text-align: right;\">\n",
       "      <th></th>\n",
       "      <th>Name</th>\n",
       "      <th>Age</th>\n",
       "      <th>Nationality</th>\n",
       "      <th>Potential</th>\n",
       "      <th>Club</th>\n",
       "      <th>Value</th>\n",
       "      <th>Wage</th>\n",
       "      <th>International Reputation</th>\n",
       "      <th>Weak Foot</th>\n",
       "      <th>Skill Moves</th>\n",
       "      <th>Work Rate</th>\n",
       "      <th>Body Type</th>\n",
       "      <th>Position</th>\n",
       "      <th>Loaned From</th>\n",
       "      <th>Height</th>\n",
       "      <th>Weight</th>\n",
       "      <th>Release Clause</th>\n",
       "    </tr>\n",
       "  </thead>\n",
       "  <tbody>\n",
       "    <tr>\n",
       "      <th>13408</th>\n",
       "      <td>22 R. Alba</td>\n",
       "      <td>18</td>\n",
       "      <td>Mexico</td>\n",
       "      <td>70</td>\n",
       "      <td>Club Atlético de San Luis</td>\n",
       "      <td>375,000.00</td>\n",
       "      <td>1,000.00</td>\n",
       "      <td>1.00</td>\n",
       "      <td>3.00</td>\n",
       "      <td>2.00</td>\n",
       "      <td>Medium/ Medium</td>\n",
       "      <td>Normal</td>\n",
       "      <td>RES</td>\n",
       "      <td>Permanent</td>\n",
       "      <td>182</td>\n",
       "      <td>70</td>\n",
       "      <td>872,000.00</td>\n",
       "    </tr>\n",
       "    <tr>\n",
       "      <th>14255</th>\n",
       "      <td>Lee Ho Jae</td>\n",
       "      <td>21</td>\n",
       "      <td>Korea Republic</td>\n",
       "      <td>61</td>\n",
       "      <td>Pohang Steelers</td>\n",
       "      <td>210,000.00</td>\n",
       "      <td>1,000.00</td>\n",
       "      <td>1.00</td>\n",
       "      <td>3.00</td>\n",
       "      <td>2.00</td>\n",
       "      <td>High/ Low</td>\n",
       "      <td>Stocky</td>\n",
       "      <td>SUB</td>\n",
       "      <td>Permanent</td>\n",
       "      <td>192</td>\n",
       "      <td>84</td>\n",
       "      <td>305,000.00</td>\n",
       "    </tr>\n",
       "    <tr>\n",
       "      <th>101</th>\n",
       "      <td>F. Mendy</td>\n",
       "      <td>27</td>\n",
       "      <td>France</td>\n",
       "      <td>84</td>\n",
       "      <td>Real Madrid CF</td>\n",
       "      <td>38,000,000.00</td>\n",
       "      <td>170,000.00</td>\n",
       "      <td>1.00</td>\n",
       "      <td>5.00</td>\n",
       "      <td>4.00</td>\n",
       "      <td>High/ High</td>\n",
       "      <td>Unique</td>\n",
       "      <td>LB</td>\n",
       "      <td>Permanent</td>\n",
       "      <td>180</td>\n",
       "      <td>73</td>\n",
       "      <td>80,800,000.00</td>\n",
       "    </tr>\n",
       "    <tr>\n",
       "      <th>12577</th>\n",
       "      <td>22 J. Eichhorn</td>\n",
       "      <td>19</td>\n",
       "      <td>Germany</td>\n",
       "      <td>73</td>\n",
       "      <td>Hannover 96</td>\n",
       "      <td>500,000.00</td>\n",
       "      <td>2,000.00</td>\n",
       "      <td>1.00</td>\n",
       "      <td>3.00</td>\n",
       "      <td>2.00</td>\n",
       "      <td>Medium/ Medium</td>\n",
       "      <td>Lean</td>\n",
       "      <td>SUB</td>\n",
       "      <td>Permanent</td>\n",
       "      <td>165</td>\n",
       "      <td>66</td>\n",
       "      <td>1,100,000.00</td>\n",
       "    </tr>\n",
       "    <tr>\n",
       "      <th>313</th>\n",
       "      <td>Luis Milla</td>\n",
       "      <td>27</td>\n",
       "      <td>Spain</td>\n",
       "      <td>81</td>\n",
       "      <td>Getafe CF</td>\n",
       "      <td>19,000,000.00</td>\n",
       "      <td>30,000.00</td>\n",
       "      <td>1.00</td>\n",
       "      <td>3.00</td>\n",
       "      <td>3.00</td>\n",
       "      <td>High/ High</td>\n",
       "      <td>Lean</td>\n",
       "      <td>SUB</td>\n",
       "      <td>Permanent</td>\n",
       "      <td>175</td>\n",
       "      <td>67</td>\n",
       "      <td>41,300,000.00</td>\n",
       "    </tr>\n",
       "  </tbody>\n",
       "</table>\n",
       "</div>"
      ],
      "text/plain": [
       "                 Name  Age     Nationality  Potential  \\\n",
       "13408      22 R. Alba   18          Mexico         70   \n",
       "14255      Lee Ho Jae   21  Korea Republic         61   \n",
       "101          F. Mendy   27          France         84   \n",
       "12577  22 J. Eichhorn   19         Germany         73   \n",
       "313        Luis Milla   27           Spain         81   \n",
       "\n",
       "                            Club         Value       Wage  \\\n",
       "13408  Club Atlético de San Luis    375,000.00   1,000.00   \n",
       "14255            Pohang Steelers    210,000.00   1,000.00   \n",
       "101               Real Madrid CF 38,000,000.00 170,000.00   \n",
       "12577                Hannover 96    500,000.00   2,000.00   \n",
       "313                    Getafe CF 19,000,000.00  30,000.00   \n",
       "\n",
       "       International Reputation  Weak Foot  Skill Moves       Work Rate  \\\n",
       "13408                      1.00       3.00         2.00  Medium/ Medium   \n",
       "14255                      1.00       3.00         2.00       High/ Low   \n",
       "101                        1.00       5.00         4.00      High/ High   \n",
       "12577                      1.00       3.00         2.00  Medium/ Medium   \n",
       "313                        1.00       3.00         3.00      High/ High   \n",
       "\n",
       "      Body Type Position Loaned From  Height  Weight  Release Clause  \n",
       "13408    Normal      RES   Permanent     182      70      872,000.00  \n",
       "14255    Stocky      SUB   Permanent     192      84      305,000.00  \n",
       "101      Unique       LB   Permanent     180      73   80,800,000.00  \n",
       "12577      Lean      SUB   Permanent     165      66    1,100,000.00  \n",
       "313        Lean      SUB   Permanent     175      67   41,300,000.00  "
      ]
     },
     "execution_count": 45,
     "metadata": {},
     "output_type": "execute_result"
    }
   ],
   "source": [
    "X_test.head()"
   ]
  },
  {
   "cell_type": "code",
   "execution_count": 46,
   "metadata": {},
   "outputs": [
    {
     "name": "stdout",
     "output_type": "stream",
     "text": [
      "(14100, 17) (3525, 17)\n"
     ]
    }
   ],
   "source": [
    "print(X_train.shape, X_test.shape)"
   ]
  },
  {
   "cell_type": "code",
   "execution_count": 47,
   "metadata": {},
   "outputs": [
    {
     "name": "stdout",
     "output_type": "stream",
     "text": [
      "(14100,) (3525,)\n"
     ]
    }
   ],
   "source": [
    "print(y_train.shape, y_test.shape)"
   ]
  },
  {
   "cell_type": "code",
   "execution_count": 48,
   "metadata": {},
   "outputs": [
    {
     "name": "stdout",
     "output_type": "stream",
     "text": [
      "Datasets successfully exported as CSV files.\n"
     ]
    }
   ],
   "source": [
    "X_train.to_csv(\"X_train.csv\", index=False)\n",
    "X_test.to_csv(\"X_test.csv\", index=False)\n",
    "y_train.to_csv(\"y_train.csv\", index=False)\n",
    "y_test.to_csv(\"y_test.csv\", index=False)\n",
    "\n",
    "print(\"Datasets successfully exported as CSV files.\")"
   ]
  }
 ],
 "metadata": {
  "kernelspec": {
   "display_name": "Python 3 (ipykernel)",
   "language": "python",
   "name": "python3"
  },
  "language_info": {
   "codemirror_mode": {
    "name": "ipython",
    "version": 3
   },
   "file_extension": ".py",
   "mimetype": "text/x-python",
   "name": "python",
   "nbconvert_exporter": "python",
   "pygments_lexer": "ipython3",
   "version": "3.12.7"
  }
 },
 "nbformat": 4,
 "nbformat_minor": 4
}
